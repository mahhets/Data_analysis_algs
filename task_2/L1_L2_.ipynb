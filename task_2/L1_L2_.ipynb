{
 "cells": [
  {
   "cell_type": "code",
   "execution_count": 1,
   "metadata": {},
   "outputs": [],
   "source": [
    "import matplotlib\n",
    "import numpy as np\n",
    "import matplotlib.pyplot as plt\n",
    "from linear_regression import linear_regression\n",
    "from sklearn.linear_model import LinearRegression as sklearn_LR\n",
    "%matplotlib inline"
   ]
  },
  {
   "cell_type": "markdown",
   "metadata": {},
   "source": [
    "## Переобученность модели"
   ]
  },
  {
   "cell_type": "code",
   "execution_count": 2,
   "metadata": {},
   "outputs": [
    {
     "data": {
      "text/plain": [
       "[<matplotlib.lines.Line2D at 0x7f3ee7892550>]"
      ]
     },
     "execution_count": 2,
     "metadata": {},
     "output_type": "execute_result"
    },
    {
     "data": {
      "image/png": "[encoded data removed]",
      "text/plain": [
       "<Figure size 432x288 with 1 Axes>"
      ]
     },
     "metadata": {
      "needs_background": "light"
     },
     "output_type": "display_data"
    }
   ],
   "source": [
    "def f(x):\n",
    "    return 0.6 - 13.2 * x - 5.3 * x ** 2 - 4.17 * x ** 3\n",
    "dots = np.linspace(-10, 10, 100)\n",
    "plt.xlabel('x')\n",
    "plt.ylabel('f(x)')\n",
    "plt.ylim(-5000, 5000)\n",
    "plt.xlim(-10,10)\n",
    "\n",
    "plt.plot(dots, f(dots), color='g')"
   ]
  },
  {
   "cell_type": "code",
   "execution_count": 3,
   "metadata": {},
   "outputs": [],
   "source": [
    "def f(x):\n",
    "    return 0.6 - 13.2 * x - 5.3 * x ** 2 - 4.17 * x ** 3\n",
    "np.random.seed(16)\n",
    "x_data = np.random.uniform(-10, 10, 10)\n",
    "f_data = [f(i) for i in x_data] + np.random.uniform(-1000, 1000, 10)"
   ]
  },
  {
   "cell_type": "code",
   "execution_count": 4,
   "metadata": {},
   "outputs": [
    {
     "data": {
      "text/plain": [
       "<matplotlib.collections.PathCollection at 0x7f3ee783c850>"
      ]
     },
     "execution_count": 4,
     "metadata": {},
     "output_type": "execute_result"
    },
    {
     "data": {
      "image/png": "[encoded data removed]",
      "text/plain": [
       "<Figure size 432x288 with 1 Axes>"
      ]
     },
     "metadata": {
      "needs_background": "light"
     },
     "output_type": "display_data"
    }
   ],
   "source": [
    "plt.xlabel('x')\n",
    "plt.ylabel('f(x)')\n",
    "plt.ylim(-5000, 5000)\n",
    "plt.xlim(-10,10)\n",
    "\n",
    "plt.plot(dots, f(dots), color='g')\n",
    "plt.scatter(x_data, f_data)"
   ]
  },
  {
   "cell_type": "code",
   "execution_count": 5,
   "metadata": {},
   "outputs": [],
   "source": [
    "class polynomial_regression(linear_regression):\n",
    "    def __init__(self, max_power, *args, **kwargs):\n",
    "        self.max_power=max_power\n",
    "        super().__init__(*args, **kwargs)\n",
    "    @staticmethod\n",
    "    def generate_features(x, max_power):\n",
    "        x=x[:, np.newaxis]\n",
    "        return np.concatenate([x**i for i in range(1, max_power+1)], axis=1)\n",
    "    def fit(self, x, y):\n",
    "        super().fit(self.generate_features(x, self.max_power), y[:, np.newaxis])\n",
    "    def predict(self, x):\n",
    "        return super().predict(self.generate_features(x, self.max_power)).flatten()\n",
    "    def test(self, x, y):\n",
    "        return super().test(self.generate_features(x, self.max_power), y[:, np.newaxis])\n",
    "    \n",
    "class polynomial_regression_sklearn(sklearn_LR):\n",
    "    def __init__(self, max_power, *args, **kwargs):\n",
    "        self.max_power=max_power\n",
    "        super().__init__(*args, **kwargs)\n",
    "    generate_features=staticmethod(polynomial_regression.generate_features)\n",
    "    def fit(self, x, y):\n",
    "        super().fit(self.generate_features(x, self.max_power), y)\n",
    "    def predict(self, x):\n",
    "        return super().predict(self.generate_features(x, self.max_power))"
   ]
  },
  {
   "cell_type": "code",
   "execution_count": 6,
   "metadata": {},
   "outputs": [
    {
     "data": {
      "text/plain": [
       "array([[  0,   0,   0],\n",
       "       [  1,   1,   1],\n",
       "       [  2,   4,   8],\n",
       "       [  3,   9,  27],\n",
       "       [  4,  16,  64],\n",
       "       [  5,  25, 125]])"
      ]
     },
     "execution_count": 6,
     "metadata": {},
     "output_type": "execute_result"
    }
   ],
   "source": [
    "polynomial_regression.generate_features(np.arange(6), 3)"
   ]
  },
  {
   "cell_type": "code",
   "execution_count": 7,
   "metadata": {},
   "outputs": [
    {
     "data": {
      "text/plain": [
       "array([  307.77840643,   -48.2985274 ,   -47.13060843,  2299.31085444,\n",
       "         -83.91820643,   308.9693798 ,  -318.18124167,   741.44413131,\n",
       "        1884.45967312, -3410.05956649])"
      ]
     },
     "execution_count": 7,
     "metadata": {},
     "output_type": "execute_result"
    }
   ],
   "source": [
    "mod1=sklearn_LR()\n",
    "mod1.fit(polynomial_regression.generate_features(x_data, 3), f_data)\n",
    "mod1.predict(polynomial_regression.generate_features(x_data, 3))"
   ]
  },
  {
   "cell_type": "code",
   "execution_count": 8,
   "metadata": {},
   "outputs": [
    {
     "data": {
      "text/plain": [
       "array([  307.77840643,   -48.2985274 ,   -47.13060843,  2299.31085444,\n",
       "         -83.91820643,   308.9693798 ,  -318.18124167,   741.44413131,\n",
       "        1884.45967312, -3410.05956649])"
      ]
     },
     "execution_count": 8,
     "metadata": {},
     "output_type": "execute_result"
    }
   ],
   "source": [
    "mod2=polynomial_regression_sklearn(3)\n",
    "mod2.fit(x_data, f_data)\n",
    "mod2.predict(x_data)"
   ]
  },
  {
   "cell_type": "code",
   "execution_count": 9,
   "metadata": {},
   "outputs": [
    {
     "name": "stdout",
     "output_type": "stream",
     "text": [
      "[[-244.6238714    -7.82736612]]\n",
      "[-245.99569456   -5.82400107]\n",
      "-90.86262419178917 -219.6919440521562\n"
     ]
    }
   ],
   "source": [
    "our_mod=polynomial_regression(2)\n",
    "our_mod.fit(x_data, f_data)\n",
    "sk_mod=polynomial_regression_sklearn(2)\n",
    "sk_mod.fit(x_data, f_data)\n",
    "print(our_mod.w)\n",
    "print(sk_mod.coef_)\n",
    "print(our_mod.c, sk_mod.intercept_)"
   ]
  },
  {
   "cell_type": "code",
   "execution_count": 10,
   "metadata": {},
   "outputs": [
    {
     "data": {
      "text/plain": [
       "array([ 1023.19975964,  -205.86862836,  -346.96688505,  1485.79930837,\n",
       "         529.78913615,  1023.86360445, -1125.71779693,  1200.28715204,\n",
       "        1433.27567867, -2857.43789035])"
      ]
     },
     "execution_count": 10,
     "metadata": {},
     "output_type": "execute_result"
    }
   ],
   "source": [
    "our_mod.predict(x_data)"
   ]
  },
  {
   "cell_type": "code",
   "execution_count": 11,
   "metadata": {},
   "outputs": [
    {
     "data": {
      "text/plain": [
       "array([  963.31967725,  -334.90351389,  -475.12730327,  1534.8970571 ,\n",
       "         420.32419835,   964.08251447, -1231.1831019 ,  1171.29729954,\n",
       "        1464.18020411, -2842.51273709])"
      ]
     },
     "execution_count": 11,
     "metadata": {},
     "output_type": "execute_result"
    }
   ],
   "source": [
    "sk_mod.predict(x_data)"
   ]
  },
  {
   "cell_type": "code",
   "execution_count": 12,
   "metadata": {},
   "outputs": [
    {
     "data": {
      "text/plain": [
       "[<matplotlib.lines.Line2D at 0x7f3ee775f450>]"
      ]
     },
     "execution_count": 12,
     "metadata": {},
     "output_type": "execute_result"
    },
    {
     "data": {
      "image/png": "[encoded data removed]",
      "text/plain": [
       "<Figure size 432x288 with 1 Axes>"
      ]
     },
     "metadata": {
      "needs_background": "light"
     },
     "output_type": "display_data"
    }
   ],
   "source": [
    "#Актуальные данные\n",
    "plt.xlabel('x')\n",
    "plt.ylabel('f(x)')\n",
    "plt.ylim(-5000, 5000)\n",
    "plt.xlim(-10,10)\n",
    "plt.plot(dots, f(dots), color='g')\n",
    "plt.scatter(x_data, f_data)\n",
    "\n",
    "#Наша модель\n",
    "model1 = polynomial_regression(1)\n",
    "model1.fit(x_data, f_data)\n",
    "plt.plot(dots, model1.predict(dots), color='r')\n",
    "\n",
    "#Sklearn\n",
    "model2 = polynomial_regression_sklearn(1)\n",
    "model2.fit(x_data, f_data)\n",
    "plt.plot(dots, model2.predict(dots), 'm--', linewidth=2)"
   ]
  },
  {
   "cell_type": "code",
   "execution_count": 13,
   "metadata": {},
   "outputs": [
    {
     "data": {
      "text/plain": [
       "[<matplotlib.lines.Line2D at 0x7f3ee76cf750>]"
      ]
     },
     "execution_count": 13,
     "metadata": {},
     "output_type": "execute_result"
    },
    {
     "data": {
      "image/png": "[encoded data removed]",
      "text/plain": [
       "<Figure size 432x288 with 1 Axes>"
      ]
     },
     "metadata": {
      "needs_background": "light"
     },
     "output_type": "display_data"
    }
   ],
   "source": [
    "#Актуальные данные\n",
    "plt.xlabel('x')\n",
    "plt.ylabel('f(x)')\n",
    "plt.ylim(-5000, 5000)\n",
    "plt.xlim(-10,10)\n",
    "plt.plot(dots, f(dots), color='g')\n",
    "plt.scatter(x_data, f_data)\n",
    "\n",
    "#Наша модель\n",
    "model1 = polynomial_regression(2)\n",
    "model1.fit(x_data, f_data)\n",
    "plt.plot(dots, model1.predict(dots), color='r')\n",
    "\n",
    "#Sklearn\n",
    "model2 = polynomial_regression_sklearn(2)\n",
    "model2.fit(x_data, f_data)\n",
    "plt.plot(dots, model2.predict(dots), 'm--', linewidth=2)"
   ]
  },
  {
   "cell_type": "code",
   "execution_count": 14,
   "metadata": {},
   "outputs": [
    {
     "data": {
      "text/plain": [
       "[<matplotlib.lines.Line2D at 0x7f3ee763fb10>]"
      ]
     },
     "execution_count": 14,
     "metadata": {},
     "output_type": "execute_result"
    },
    {
     "data": {
      "image/png": "[encoded data removed]",
      "text/plain": [
       "<Figure size 432x288 with 1 Axes>"
      ]
     },
     "metadata": {
      "needs_background": "light"
     },
     "output_type": "display_data"
    }
   ],
   "source": [
    "#Актуальные данные\n",
    "plt.xlabel('x')\n",
    "plt.ylabel('f(x)')\n",
    "plt.ylim(-5000, 5000)\n",
    "plt.xlim(-10,10)\n",
    "plt.plot(dots, f(dots), color='g')\n",
    "plt.scatter(x_data, f_data)\n",
    "\n",
    "#Наша модель\n",
    "model1 = polynomial_regression(3)\n",
    "model1.fit(x_data, f_data)\n",
    "plt.plot(dots, model1.predict(dots), color='r')\n",
    "\n",
    "#Sklearn\n",
    "model2 = polynomial_regression_sklearn(3)\n",
    "model2.fit(x_data, f_data)\n",
    "plt.plot(dots, model2.predict(dots), 'm--', linewidth=2)"
   ]
  },
  {
   "cell_type": "code",
   "execution_count": 15,
   "metadata": {},
   "outputs": [
    {
     "data": {
      "text/plain": [
       "[<matplotlib.lines.Line2D at 0x7f3ee7631410>]"
      ]
     },
     "execution_count": 15,
     "metadata": {},
     "output_type": "execute_result"
    },
    {
     "data": {
      "image/png": "[encoded data removed]",
      "text/plain": [
       "<Figure size 432x288 with 1 Axes>"
      ]
     },
     "metadata": {
      "needs_background": "light"
     },
     "output_type": "display_data"
    }
   ],
   "source": [
    "#Актуальные данные\n",
    "plt.xlabel('x')\n",
    "plt.ylabel('f(x)')\n",
    "plt.ylim(-5000, 5000)\n",
    "plt.xlim(-10,10)\n",
    "plt.plot(dots, f(dots), color='g')\n",
    "plt.scatter(x_data, f_data)\n",
    "\n",
    "#Наша модель\n",
    "model1 = polynomial_regression(4, 0.01)\n",
    "model1.fit(x_data, f_data)\n",
    "plt.plot(dots, model1.predict(dots), color='r')\n",
    "\n",
    "#Sklearn\n",
    "model2 = polynomial_regression_sklearn(4)\n",
    "model2.fit(x_data, f_data)\n",
    "plt.plot(dots, model2.predict(dots), 'm--', linewidth=2)"
   ]
  },
  {
   "cell_type": "code",
   "execution_count": 16,
   "metadata": {},
   "outputs": [
    {
     "data": {
      "text/plain": [
       "[<matplotlib.lines.Line2D at 0x7f3ee75d8390>]"
      ]
     },
     "execution_count": 16,
     "metadata": {},
     "output_type": "execute_result"
    },
    {
     "data": {
      "image/png": "[encoded data removed]",
      "text/plain": [
       "<Figure size 432x288 with 1 Axes>"
      ]
     },
     "metadata": {
      "needs_background": "light"
     },
     "output_type": "display_data"
    }
   ],
   "source": [
    "#Актуальные данные\n",
    "plt.xlabel('x')\n",
    "plt.ylabel('f(x)')\n",
    "plt.ylim(-5000, 5000)\n",
    "plt.xlim(-10,10)\n",
    "plt.plot(dots, f(dots), color='g')\n",
    "plt.scatter(x_data, f_data)\n",
    "\n",
    "#Наша модель\n",
    "model1 = polynomial_regression(6, 0.0005, max_iter = 1e5)\n",
    "model1.fit(x_data, f_data)\n",
    "plt.plot(dots, model1.predict(dots), color='r')\n",
    "\n",
    "#Sklearn\n",
    "model2 = polynomial_regression_sklearn(6)\n",
    "model2.fit(x_data, f_data)\n",
    "plt.plot(dots, model2.predict(dots), 'm--', linewidth=2)"
   ]
  },
  {
   "cell_type": "code",
   "execution_count": 17,
   "metadata": {},
   "outputs": [
    {
     "data": {
      "text/plain": [
       "146725.1501468467"
      ]
     },
     "execution_count": 17,
     "metadata": {},
     "output_type": "execute_result"
    }
   ],
   "source": [
    "#Значение штрафной функции для нашей модели\n",
    "linear_regression.mserror(polynomial_regression.generate_features(x_data, 6), \n",
    "                          model1.w, model1.c, f_data[:, np.newaxis])"
   ]
  },
  {
   "cell_type": "code",
   "execution_count": 18,
   "metadata": {},
   "outputs": [
    {
     "data": {
      "text/plain": [
       "76841.30434762465"
      ]
     },
     "execution_count": 18,
     "metadata": {},
     "output_type": "execute_result"
    }
   ],
   "source": [
    "#Значение штрафной функции для модели Sklearn\n",
    "linear_regression.mserror(polynomial_regression.generate_features(x_data, 6), \n",
    "                          model2.coef_[np.newaxis, :], model2.intercept_, f_data[:, np.newaxis])"
   ]
  },
  {
   "cell_type": "code",
   "execution_count": 19,
   "metadata": {},
   "outputs": [
    {
     "data": {
      "text/plain": [
       "[<matplotlib.lines.Line2D at 0x7f3ee7517e50>]"
      ]
     },
     "execution_count": 19,
     "metadata": {},
     "output_type": "execute_result"
    },
    {
     "data": {
      "image/png": "[encoded data removed]",
      "text/plain": [
       "<Figure size 432x288 with 1 Axes>"
      ]
     },
     "metadata": {
      "needs_background": "light"
     },
     "output_type": "display_data"
    }
   ],
   "source": [
    "#Истиные коэффициенты используемые для генерации данных\n",
    "w_true=np.array([[- 13.2,  - 5.3,  - 4.17, 0, 0, 0]])\n",
    "c_true=0.6\n",
    "\n",
    "#Коэффициенты из Sklearn\n",
    "w_sklearn=model2.coef_[np.newaxis, :]\n",
    "c_sklearn=model2.intercept_\n",
    "\n",
    "x=polynomial_regression.generate_features(x_data, 6)\n",
    "y=f_data[:, np.newaxis]\n",
    "\n",
    "x_dots=np.arange(-0.5, 1.55, 0.05)\n",
    "mserror_values=np.array([linear_regression.mserror(x, w_true+(w_sklearn-w_true)*i, \n",
    "                                                   c_true+(c_sklearn-c_true), y) for i in x_dots])\n",
    "#Актуальные данные\n",
    "plt.ylabel('mserror')\n",
    "plt.xticks([0, 1], ['Истиные\\nвеса', 'Веса\\nSklearn'])\n",
    "plt.plot(x_dots, mserror_values)"
   ]
  },
  {
   "cell_type": "markdown",
   "metadata": {},
   "source": [
    "## Кросс-валидация"
   ]
  },
  {
   "cell_type": "code",
   "execution_count": 20,
   "metadata": {},
   "outputs": [
    {
     "name": "stdout",
     "output_type": "stream",
     "text": [
      "0.9658418390279783\n"
     ]
    }
   ],
   "source": [
    "#Посчитаем р-квадрат\n",
    "def r_square(y, y_real):\n",
    "    ss_total=np.sum((y_real-np.mean(y_real))**2)\n",
    "    ss_res=np.sum((y_real-y)**2)\n",
    "    return 1-ss_res/ss_total\n",
    "print(r_square(model2.predict(x_data), f_data))"
   ]
  },
  {
   "cell_type": "code",
   "execution_count": 21,
   "metadata": {},
   "outputs": [
    {
     "name": "stdout",
     "output_type": "stream",
     "text": [
      "-7794.627882965882\n"
     ]
    }
   ],
   "source": [
    "indexes=np.arange(len(f_data))%5\n",
    "y_actual=[]\n",
    "y_predicted=[]\n",
    "\n",
    "for i in range(5):\n",
    "    y_actual.append(f_data[indexes==i])\n",
    "    mod=polynomial_regression_sklearn(6)\n",
    "    mod.fit(x_data[indexes!=i], f_data[indexes!=i])\n",
    "    y_predicted.append(mod.predict(x_data[indexes==i]))\n",
    "    \n",
    "y_actual=np.concatenate(y_actual)\n",
    "y_predicted=np.concatenate(y_predicted)\n",
    "print(r_square(y_predicted, y_actual))"
   ]
  },
  {
   "cell_type": "code",
   "execution_count": 22,
   "metadata": {},
   "outputs": [
    {
     "data": {
      "text/plain": [
       "2249573.810796306"
      ]
     },
     "execution_count": 22,
     "metadata": {},
     "output_type": "execute_result"
    }
   ],
   "source": [
    "np.sum((y_actual-np.mean(y_actual))**2)/len(y_actual)"
   ]
  },
  {
   "cell_type": "markdown",
   "metadata": {},
   "source": [
    "<b>Домашнее задание</b>"
   ]
  },
  {
   "cell_type": "markdown",
   "metadata": {},
   "source": [
    "1.У вас, с прошлого урока, имеются реализации расчёта среднеквадратичной ошибки и её градиента для линейнй регрессии с коэффициентами при факторах(w) и свободным коэффициентам."
   ]
  },
  {
   "cell_type": "markdown",
   "metadata": {},
   "source": [
    "```python\n",
    "def mserror(X, w, c0, y_real):\n",
    "    y = X.dot(w.T)+c0\n",
    "    return np.sum((y - y_real)**2) / y_real.shape[0]\n",
    "\n",
    "def mserror_grad(X, w, c0, y_real):\n",
    "    delta=(X.dot(w.T)+c0-y_real)\n",
    "    return 2*delta.T.dot(X)/y_real.shape[0], np.sum(2*delta)/y_real.shape[0]\n",
    "```"
   ]
  },
  {
   "cell_type": "markdown",
   "metadata": {},
   "source": [
    "В этом задании вы должны модифицировать реализацию рассчёта среднеквадратичной ошибки и рассчёта её производной, так, чтобы с к среднеквадратичной ошибке добавлялась l2 регулярязационная поправка: $ +c*\\sum \\limits _{j}  w_{j}^2 $ а к градиенту- ссответствующее выражение для градиента регулярязационной поправки."
   ]
  },
  {
   "cell_type": "markdown",
   "metadata": {},
   "source": [
    "2.На основе этих функций создайте свою регуляризированную полиномиальную регрессию и опробуйте на одном из примеров построения полиномиальной модели из этого урока. <br>\n",
    "<i><b>Пояснение:</b>Для этого Вам достаточно создать класс, который наследуется от класса polynomial_regression из данного урока, и переопределить в нём статические методы mserror, mserror_grad(под переопределением подразумевается создание на новом классе методов с таким же названием). Не забывайте использовать декоратор @staticmethod. Как уже было объяснено на вебинаре это приведет к тому что при вызове метода fit, будет вызываться его версия из текущего урока генерирующая полиномиальные фичи, и использующая их для вызова реализации из прошлого урока, которая для рассчёта градиента вызывает переопределяемый в этом задании метод mserror_grad, и таким образом с переопределением метода станет рассчитывать градиент по новому.</i>"
   ]
  },
  {
   "cell_type": "markdown",
   "metadata": {},
   "source": [
    "3*. (по желанию). Оцените оцените предсказательную способность реализованного метода с использование 5-ти ступенчатой кросс-валидации, показанной в примере выше. "
   ]
  },
  {
   "cell_type": "markdown",
   "metadata": {},
   "source": [
    "## Масштабируемость и стохастический градиент"
   ]
  },
  {
   "cell_type": "code",
   "execution_count": 2,
   "metadata": {},
   "outputs": [],
   "source": [
    "from sklearn import datasets\n",
    "import numpy as np\n",
    "data, target, coef = datasets.make_regression(n_samples=1000, n_features = 2, n_informative = 2, \n",
    "                                              n_targets = 1, \n",
    "                                              noise = 5, coef = True, random_state = 2)"
   ]
  },
  {
   "cell_type": "code",
   "execution_count": 3,
   "metadata": {},
   "outputs": [],
   "source": [
    "# Получим средние значения и стандартное отклонение по столбцам\n",
    "\n",
    "means = np.mean(data, axis=0)\n",
    "stds = np.std(data, axis=0)\n",
    "# параметр axis указывается для вычисления значений по столбцам, а не по всему массиву\n",
    "#(см. документацию в разделе источников)\n",
    "\n",
    "# вычтем каждое значение признака из среднего и поделим на стандартное отклонение\n",
    "for i in range(data.shape[0]):\n",
    "    for j in range(data.shape[1]):\n",
    "        data[i][j] = (data[i][j] - means[j])/stds[j]"
   ]
  },
  {
   "cell_type": "code",
   "execution_count": 4,
   "metadata": {},
   "outputs": [],
   "source": [
    "# реализуем функцию, определяющую среднеквадратичную ошибку\n",
    "def mserror(X, w, y_pred):\n",
    "    y = X.dot(w)\n",
    "    return (sum((y - y_pred)**2)) / len(y)"
   ]
  },
  {
   "cell_type": "code",
   "execution_count": 5,
   "metadata": {},
   "outputs": [
    {
     "name": "stdout",
     "output_type": "stream",
     "text": [
      "8190.666400278678\n",
      "7868.753582703475\n",
      "7552.176708022045\n",
      "7259.789173320224\n",
      "6978.842338857329\n",
      "6711.147732739624\n",
      "6465.024549418812\n",
      "6193.478468202817\n",
      "5952.161582141672\n",
      "5739.3796873030105\n",
      "5523.839223473497\n",
      "5325.932157005784\n",
      "5129.163500347651\n",
      "4933.476091014136\n",
      "4740.948807699323\n",
      "4560.0636957114275\n",
      "4389.471806845338\n",
      "4222.841072793941\n",
      "4057.27949070885\n",
      "3883.22606736391\n",
      "3730.1032823480377\n",
      "3587.853308872341\n",
      "3445.0583250162367\n",
      "3327.479598923909\n",
      "3196.3267522188453\n",
      "3069.9410087470965\n",
      "2944.961180766486\n",
      "2825.302164209918\n",
      "2714.644474373037\n",
      "2605.4646800664736\n",
      "2501.4991915348905\n",
      "2403.138363888203\n",
      "2311.435369461309\n",
      "2227.2752643200065\n",
      "2140.365610877901\n",
      "2067.702935726182\n",
      "1987.5459166793892\n",
      "1907.6856964699145\n",
      "1831.744304944092\n",
      "1761.107616288086\n",
      "1692.0716424918924\n",
      "1629.5493937699832\n",
      "1572.5943618285678\n",
      "1513.61590582835\n",
      "1455.1174954572207\n",
      "1401.943729514938\n",
      "1351.7369963721633\n",
      "1295.4569356472489\n",
      "1245.394602285046\n",
      "1199.059107707529\n",
      "1153.3476244994463\n",
      "1109.8075842814014\n",
      "1068.0603086692986\n",
      "1030.9713642382635\n",
      "993.3096852300594\n",
      "956.5660934659073\n",
      "921.443217930707\n",
      "885.9194442139021\n",
      "852.4251737476633\n",
      "817.8658457319632\n",
      "787.6269358658091\n",
      "756.4787324724116\n",
      "729.8854862981633\n",
      "703.5060604297884\n",
      "677.3856176375231\n",
      "654.4689737307925\n",
      "631.5396733157406\n",
      "608.304647009152\n",
      "587.0303806445294\n",
      "565.7035949650333\n",
      "544.0633511421083\n",
      "524.8124962821796\n",
      "505.14839935698103\n",
      "486.84262757327116\n",
      "469.5127530142235\n",
      "453.5188917451619\n",
      "437.7724667388433\n",
      "421.87860759934904\n",
      "407.9193670850432\n",
      "393.2078322270388\n",
      "379.2348493046\n",
      "366.3638659590251\n",
      "354.0837143576599\n",
      "341.85887379513844\n",
      "329.8719294513386\n",
      "318.50111433884734\n",
      "307.6242996330531\n",
      "297.3913689962576\n",
      "287.79826351226404\n",
      "277.16937786892714\n",
      "268.48406840478697\n",
      "259.52941142348806\n",
      "250.89728032547077\n",
      "В случае использования стохастического градиентного спуска функционал ошибки составляет 248.3494\n"
     ]
    }
   ],
   "source": [
    "# инициализируем начальный вектор весов\n",
    "w = np.zeros(2)\n",
    "\n",
    "# список векторов весов после каждой итерации\n",
    "w_list = [w.copy()]\n",
    "\n",
    "# список значений ошибок после каждой итерации\n",
    "errors = []\n",
    "\n",
    "# шаг градиентного спуска\n",
    "eta = 0.01\n",
    "\n",
    "# максимальное число итераций\n",
    "max_iter = 1e5\n",
    "\n",
    "# критерий сходимости (разница весов, при которой алгоритм останавливается)\n",
    "min_weight_dist = 1e-8\n",
    "\n",
    "# зададим начальную разницу весов большим числом\n",
    "weight_dist = np.inf\n",
    "\n",
    "# счетчик итераций\n",
    "iter_num = 0\n",
    "\n",
    "np.random.seed(1234)\n",
    "\n",
    "# ход градиентного спуска\n",
    "while weight_dist > min_weight_dist and iter_num < max_iter:\n",
    "    \n",
    "    # генерируем случайный индекс объекта выборки\n",
    "    train_ind = np.random.randint(data.shape[0])\n",
    "    \n",
    "    new_w = w - 2 * eta * np.dot(data[train_ind].T, (np.dot(data[train_ind], w) - target[train_ind])) / target.shape[0]\n",
    "\n",
    "    weight_dist = np.linalg.norm(new_w - w, ord=2)\n",
    "    \n",
    "    w_list.append(new_w.copy())\n",
    "    error=mserror(data, new_w, target)\n",
    "    errors.append(error)\n",
    "    if iter_num %1000==0:\n",
    "        print(error)\n",
    "    \n",
    "    iter_num += 1\n",
    "    w = new_w\n",
    "    \n",
    "w_list = np.array(w_list)\n",
    "\n",
    "print(f'В случае использования стохастического градиентного спуска функционал ошибки составляет {round(errors[-1], 4)}')"
   ]
  },
  {
   "cell_type": "markdown",
   "metadata": {},
   "source": [
    "<b>Домашнее задание: </b> Модифицировать пример со стохастическим градиентом, реализовав в нём рассчёт градиента по десяти случайно выбираемым объектам (mini-batch градиент).  "
   ]
  },
  {
   "cell_type": "code",
   "execution_count": 29,
   "metadata": {},
   "outputs": [
    {
     "data": {
      "image/png": "[encoded data removed]",
      "text/plain": [
       "<Figure size 936x432 with 1 Axes>"
      ]
     },
     "metadata": {
      "needs_background": "light"
     },
     "output_type": "display_data"
    }
   ],
   "source": [
    "# Визуализируем изменение весов (красной точкой обозначены истинные веса, сгенерированные вначале)\n",
    "plt.figure(figsize=(13, 6))\n",
    "plt.title('Stochastic gradient descent')\n",
    "plt.xlabel(r'$w_1$')\n",
    "plt.ylabel(r'$w_2$')\n",
    "\n",
    "plt.scatter(w_list[:, 0], w_list[:, 1])\n",
    "plt.scatter(coef[0], coef[1], c='r')\n",
    "plt.plot(w_list[:, 0], w_list[:, 1])\n",
    "\n",
    "plt.show()"
   ]
  },
  {
   "cell_type": "code",
   "execution_count": 30,
   "metadata": {},
   "outputs": [
    {
     "data": {
      "text/plain": [
       "Text(0, 0.5, 'MSE')"
      ]
     },
     "execution_count": 30,
     "metadata": {},
     "output_type": "execute_result"
    },
    {
     "data": {
      "image/png": "[encoded data removed]",
      "text/plain": [
       "<Figure size 432x288 with 1 Axes>"
      ]
     },
     "metadata": {
      "needs_background": "light"
     },
     "output_type": "display_data"
    }
   ],
   "source": [
    "# Визуализируем изменение функционала ошибки\n",
    "plt.plot(range(len(errors)), errors)\n",
    "plt.title('MSE')\n",
    "plt.xlabel('Iteration number')\n",
    "plt.ylabel('MSE')"
   ]
  },
  {
   "cell_type": "code",
   "execution_count": null,
   "metadata": {},
   "outputs": [],
   "source": []
  }
 ],
 "metadata": {
  "kernelspec": {
   "display_name": "Python 3",
   "language": "python",
   "name": "python3"
  },
  "language_info": {
   "codemirror_mode": {
    "name": "ipython",
    "version": 3
   },
   "file_extension": ".py",
   "mimetype": "text/x-python",
   "name": "python",
   "nbconvert_exporter": "python",
   "pygments_lexer": "ipython3",
   "version": "3.8.4"
  }
 },
 "nbformat": 4,
 "nbformat_minor": 4
}
