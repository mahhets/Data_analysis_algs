{
 "cells": [
  {
   "cell_type": "code",
   "execution_count": 1,
   "metadata": {},
   "outputs": [],
   "source": [
    "import numpy as np\n",
    "import matplotlib.pyplot as plt\n",
    "from sklearn.datasets import make_regression\n",
    "import warnings\n",
    "\n",
    "%matplotlib inline"
   ]
  },
  {
   "cell_type": "markdown",
   "metadata": {},
   "source": [
    "Создадим датасет"
   ]
  },
  {
   "cell_type": "code",
   "execution_count": 2,
   "metadata": {},
   "outputs": [],
   "source": [
    "X, y = make_regression(n_samples=1000, n_features=10, n_informative=6, random_state=42)"
   ]
  },
  {
   "cell_type": "code",
   "execution_count": 3,
   "metadata": {},
   "outputs": [
    {
     "data": {
      "text/plain": [
       "(1000, 10)"
      ]
     },
     "execution_count": 3,
     "metadata": {},
     "output_type": "execute_result"
    }
   ],
   "source": [
    "X.shape"
   ]
  },
  {
   "cell_type": "code",
   "execution_count": 4,
   "metadata": {},
   "outputs": [
    {
     "data": {
      "text/plain": [
       "(1000,)"
      ]
     },
     "execution_count": 4,
     "metadata": {},
     "output_type": "execute_result"
    }
   ],
   "source": [
    "y.shape"
   ]
  },
  {
   "cell_type": "markdown",
   "metadata": {},
   "source": [
    "Модель - DecisionTreeRegressor"
   ]
  },
  {
   "cell_type": "code",
   "execution_count": 5,
   "metadata": {},
   "outputs": [],
   "source": [
    "class Node:\n",
    "\n",
    "    def __init__(self, index, t, true_branch, false_branch):\n",
    "        self.index = index  # индекс признака для сравнения с ророгом в узле\n",
    "        self.t = t  # порог\n",
    "        self.true_branch = true_branch  # поддерево, удовлетворяющее условию в узле\n",
    "        self.false_branch = false_branch\n",
    "\n",
    "class Leaf:\n",
    "\n",
    "    def __init__(self, data, values):\n",
    "        self.data = data\n",
    "        self.values = values\n",
    "        self.prediction = self.predict()\n",
    "\n",
    "    def predict(self):\n",
    "        #  найдем значение как среднее по выборке\n",
    "        prediction = np.mean(self.values)\n",
    "        return prediction\n",
    "    \n",
    "class RegressionTree():\n",
    "\n",
    "    def __init__(self, max_depth = 50):\n",
    "        self.max_depth = max_depth\n",
    "        self.tree = None\n",
    "\n",
    "    # Определим критерий информативности\n",
    "    # В случае регрессии разброс значений будет характеризоваться дисперсией\n",
    "    def inf_criterion(self, values):\n",
    "        return np.var(values)\n",
    "\n",
    "    # Функция рассчета качества\n",
    "    def quality(self, left_labels, right_labels, current_dispersion):\n",
    "        # доля выбоки, ушедшая в левое поддерево\n",
    "        p = float(left_labels.shape[0]) / (left_labels.shape[0] + right_labels.shape[0])\n",
    "        return current_dispersion - p * self.inf_criterion(left_labels) - (1 - p) * self.inf_criterion(right_labels)\n",
    "\n",
    "    # Функция разбиение данных в узле\n",
    "    def split(self, data, values, index, t):\n",
    "\n",
    "        left = np.where(data[:, index] <= t)\n",
    "        right = np.where(data[:, index] > t)\n",
    "\n",
    "        true_data = data[left]\n",
    "        false_data = data[right]\n",
    "        true_values = values[left]\n",
    "        false_values = values[right]\n",
    "\n",
    "        return true_data, false_data, true_values, false_values\n",
    "\n",
    "    # Функция нахождения наилучшего разбиения\n",
    "    def find_best_split(self, data, values):\n",
    "\n",
    "        #  обозначим минимальное количество объектов в узле\n",
    "        min_leaf = 5\n",
    "        current_inf = self.inf_criterion(values)\n",
    "        best_quality = 0\n",
    "        best_t = None\n",
    "        best_index = None\n",
    "\n",
    "        n_features = data.shape[1]\n",
    "\n",
    "        for index in range(n_features):\n",
    "            # проверяем только уникальные значения признака\n",
    "            t_values = np.unique([row[index] for row in data])\n",
    "\n",
    "            for t in t_values:\n",
    "                true_data, false_data, true_labels, false_labels = self.split(data, values, index, t)\n",
    "                #  Если в узле остается < 5 объекто - пропускаем узел\n",
    "                if len(true_data) < min_leaf or len(false_data) < min_leaf:\n",
    "                    continue\n",
    "\n",
    "                current_quality = self.quality(true_labels, false_labels, current_inf)\n",
    "\n",
    "                #  выбираем порог с максимальным приростом качества\n",
    "                if current_quality > best_quality:\n",
    "                    best_quality, best_t, best_index = current_quality, t, index\n",
    "\n",
    "        return best_quality, best_t, best_index\n",
    "\n",
    "    # Функция построения дерева\n",
    "    def build_tree(self, data, values, current_deep, max_depth):\n",
    "\n",
    "        quality, t, index = self.find_best_split(data, values)\n",
    "\n",
    "        #  Первый базовый случай (прекращаем рекурсию, если нет прироста качества)\n",
    "        if quality == 0:\n",
    "            return Leaf(data, values)\n",
    "        # Второй базовый случай (прекращаем рекурсию, если превышена глубина дерева)\n",
    "        # (критерий считается достаточно грубым, но хорошо зарекомендовал себя в композициях деревьев)\n",
    "        if current_deep > max_depth:\n",
    "            return Leaf(data, values)\n",
    "\n",
    "        current_deep += 1\n",
    "\n",
    "        true_data, false_data, true_values, false_values = self.split(data, values, index, t)\n",
    "        # Рекурсивно строим деревья\n",
    "        true_branch = self.build_tree(true_data, true_values, current_deep, max_depth)\n",
    "        false_branch = self.build_tree(false_data, false_values, current_deep, max_depth)\n",
    "\n",
    "        # Возвращаем класс узла всего дерева\n",
    "        return Node(index, t, true_branch, false_branch)\n",
    "\n",
    "    # Предскажем объект\n",
    "    def predict_value(self, obj, node):\n",
    "\n",
    "        #  Останавливаем рекурсию, если достигли листа\n",
    "        if isinstance(node, Leaf):\n",
    "            answer = node.prediction\n",
    "            return answer\n",
    "\n",
    "        if obj[node.index] <= node.t:\n",
    "            return self.predict_value(obj, node.true_branch)\n",
    "        else:\n",
    "            return self.predict_value(obj, node.false_branch)\n",
    "\n",
    "    def predict(self, data):\n",
    "\n",
    "        pred_values = []\n",
    "        for obj in data:\n",
    "            prediction = self.predict_value(obj, self.tree)\n",
    "            pred_values.append(prediction)\n",
    "        return pred_values\n",
    "\n",
    "    def fit(self, data, values):\n",
    "        self.tree = self.build_tree(data, values, 0, self.max_depth)"
   ]
  },
  {
   "cell_type": "markdown",
   "metadata": {},
   "source": [
    "GBoost_DecisionTreeRegressor"
   ]
  },
  {
   "cell_type": "code",
   "execution_count": 6,
   "metadata": {},
   "outputs": [],
   "source": [
    "class GradBoost:\n",
    "\n",
    "    def __init__(self, algoritm, max_depth, n_trees, alpha, coef):\n",
    "        self.max_depth = max_depth\n",
    "        self.n_trees = n_trees\n",
    "        self.alpha = alpha\n",
    "        self.coef = coef\n",
    "        self.trees = []\n",
    "        self.train_errors = []\n",
    "        self.test_errors = []\n",
    "        self.algoritm = algoritm\n",
    "    \n",
    "    # L2 loss\n",
    "    def bias(self, y, z):\n",
    "        return 2*(y - z)\n",
    "    @staticmethod\n",
    "    def mean_squared_error(y_real, prediction):\n",
    "        return ((sum((y_real - prediction)**2)) / len(y_real))\n",
    "\n",
    "    def fit(self, X_train,X_test, Y_train, Y_test):\n",
    "        # Cписок деревьев\n",
    "        trees = []\n",
    "\n",
    "        for i in range(self.n_trees):\n",
    "            tree = self.algoritm(max_depth=self.max_depth)\n",
    "            # инициализируем бустинг начальным алгоритмом, возвращающим ноль,\n",
    "            # поэтому первый алгоритм просто обучаем на выборке и добавляем в список\n",
    "            if len(trees) == 0:\n",
    "                tree.fit(X_train, Y_train)\n",
    "                \n",
    "                self.train_errors.append(mean_squared_error(Y_train, self.predict(X_train)))\n",
    "                self.test_errors.append(mean_squared_error(Y_test, self.predict(X_test)))\n",
    "            else:\n",
    "                # Получим ответы на текущей композиции\n",
    "                values = self.predict(X_train)\n",
    "                # алгоритмы начиная со второго обучаем на сдвиг\n",
    "                tree.fit(X_train, self.bias(Y_train, values))\n",
    "                \n",
    "                self.train_errors.append(mean_squared_error(Y_train, self.predict(X_train)))\n",
    "                self.test_errors.append(mean_squared_error(Y_test, self.predict(X_test)))\n",
    "                \n",
    "            self.trees.append(tree)\n",
    "        return self.trees, self.train_errors, self.test_errors\n",
    "\n",
    "    def predict(self, X):\n",
    "        return np.array([sum([self.alpha * coef * alg.predict([x])[0] for alg,\\\n",
    "                        coef in zip(self.trees, self.coef)]) for x in X])"
   ]
  },
  {
   "cell_type": "markdown",
   "metadata": {},
   "source": [
    "PCA"
   ]
  },
  {
   "cell_type": "code",
   "execution_count": 7,
   "metadata": {},
   "outputs": [],
   "source": [
    "class PCA():\n",
    "    def __init__(self, n_components):\n",
    "        self.n_components = n_components\n",
    "\n",
    "    def fit_transform(self, data):\n",
    "        data_ = data.astype(float)\n",
    "        cov_matrix = data_.T.dot(data_) # Матрица ковариаций\n",
    "        eig_values, eig_vectors = np.linalg.eig(cov_matrix) # Собственные значения, собственные вектора\n",
    "        eig_pairs = [(np.abs(eig_values[i]), eig_vectors[:,i]) for i in range(len(eig_values))] # список кортежей (значение, вектор)\n",
    "        eig_pairs.sort(key=lambda x: x[0], reverse=True) # сортируем список по убыванию eig_values\n",
    "\n",
    "        eig_sum = sum(eig_values)\n",
    "        var_exp = [(i / eig_sum) * 100 for i in sorted(eig_values, reverse=True)]\n",
    "        cum_var_exp = np.cumsum(var_exp)\n",
    "\n",
    "        w = np.hstack(([eig_pairs[i][1].reshape(data.shape[1], 1) for i in range(self.n_components)]))\n",
    "        data_pca = data_.dot(w)\n",
    "        return data_pca, print(f'Доля дисперсии, описываемая каждой компонентой \\n{var_exp}'),\\\n",
    "    print(f'Кумулятивная доля дисперсии \\n{cum_var_exp}')"
   ]
  },
  {
   "cell_type": "markdown",
   "metadata": {},
   "source": [
    "Стандартизация"
   ]
  },
  {
   "cell_type": "code",
   "execution_count": 8,
   "metadata": {},
   "outputs": [],
   "source": [
    "def normalin(data):\n",
    "    means = np.mean(data, axis=0)\n",
    "    stds = np.std(data, axis=0)\n",
    "    for i in range(data.shape[0]):\n",
    "        for j in range(data.shape[1]):\n",
    "            data[i][j] = (data[i][j] - means[j])/stds[j]\n",
    "    return data"
   ]
  },
  {
   "cell_type": "markdown",
   "metadata": {},
   "source": [
    "train_test_split"
   ]
  },
  {
   "cell_type": "code",
   "execution_count": 9,
   "metadata": {},
   "outputs": [],
   "source": [
    "def tts(X, y, test_size, random_state):\n",
    "    np.random.seed(random_state)\n",
    "    \n",
    "    train_test_cut = int(len(X) * (1 - test_size))\n",
    "    \n",
    "    shuffle_index = np.random.permutation(X.shape[0])\n",
    "    X_shuffled, y_shuffled = X[shuffle_index], y[shuffle_index]\n",
    "    \n",
    "    X_train, X_test, y_train, y_test = \\\n",
    "    X_shuffled[:train_test_cut], \\\n",
    "    X_shuffled[train_test_cut:], \\\n",
    "    y_shuffled[:train_test_cut], \\\n",
    "    y_shuffled[train_test_cut:]\n",
    "    \n",
    "    return X_train, X_test, y_train, y_test"
   ]
  },
  {
   "cell_type": "markdown",
   "metadata": {},
   "source": [
    "Метрики"
   ]
  },
  {
   "cell_type": "code",
   "execution_count": 10,
   "metadata": {},
   "outputs": [],
   "source": [
    "def r2_score(y, y_real):\n",
    "    ss_total=np.sum((y_real-np.mean(y_real))**2)\n",
    "    ss_res=np.sum((y_real-y)**2)\n",
    "    return 1-ss_res/ss_total\n",
    "\n",
    "# Эта функция внедрена в класс как статический метод\n",
    "def mean_squared_error(y_real, prediction):\n",
    "    return (sum((y_real - prediction)**2)) / len(y_real)"
   ]
  },
  {
   "cell_type": "code",
   "execution_count": 11,
   "metadata": {},
   "outputs": [],
   "source": [
    "def evaluate_alg(X_train, X_test, y_train, y_test, trees, model):\n",
    "    train_prediction = model.predict(X_train)\n",
    "\n",
    "    print(f'Ошибка алгоритма из {n_trees} на тренировочной выборке: {mean_squared_error(y_train, train_prediction)}')\n",
    "\n",
    "    test_prediction = model.predict(X_test)\n",
    "\n",
    "    print(f'Ошибка алгоритма из {n_trees} на тестовой выборке: {mean_squared_error(y_test, test_prediction)}')"
   ]
  },
  {
   "cell_type": "markdown",
   "metadata": {},
   "source": [
    "### Нормализуем признаки"
   ]
  },
  {
   "cell_type": "code",
   "execution_count": 12,
   "metadata": {},
   "outputs": [],
   "source": [
    "# В датасете они и так приведены к единому стандарту\n",
    "#X = normalin(X)"
   ]
  },
  {
   "cell_type": "markdown",
   "metadata": {},
   "source": [
    "### TTS"
   ]
  },
  {
   "cell_type": "code",
   "execution_count": 13,
   "metadata": {},
   "outputs": [],
   "source": [
    "X_train, X_test, y_train, y_test = tts(X,y, test_size=0.3, random_state=21)"
   ]
  },
  {
   "cell_type": "code",
   "execution_count": 14,
   "metadata": {},
   "outputs": [
    {
     "data": {
      "text/plain": [
       "((700, 10), (300, 10), (700,), (300,))"
      ]
     },
     "execution_count": 14,
     "metadata": {},
     "output_type": "execute_result"
    }
   ],
   "source": [
    "X_train.shape, X_test.shape, y_train.shape, y_test.shape"
   ]
  },
  {
   "cell_type": "markdown",
   "metadata": {},
   "source": [
    "### Построим модель без использования главных компонент"
   ]
  },
  {
   "cell_type": "code",
   "execution_count": 15,
   "metadata": {},
   "outputs": [],
   "source": [
    "n_trees = 10\n",
    "coefs = [1] * n_trees"
   ]
  },
  {
   "cell_type": "code",
   "execution_count": 16,
   "metadata": {},
   "outputs": [],
   "source": [
    "model = GradBoost(algoritm=RegressionTree, max_depth=8, n_trees=n_trees, alpha=0.1, coef = coefs)"
   ]
  },
  {
   "cell_type": "code",
   "execution_count": 17,
   "metadata": {},
   "outputs": [],
   "source": [
    "trees, train_errors, test_errors = model.fit(X_train,X_test,y_train, y_test)"
   ]
  },
  {
   "cell_type": "code",
   "execution_count": 18,
   "metadata": {},
   "outputs": [
    {
     "name": "stdout",
     "output_type": "stream",
     "text": [
      "Ошибка алгоритма из 10 на тренировочной выборке: 172.9989867166722\n",
      "Ошибка алгоритма из 10 на тестовой выборке: 486.6491484454596\n"
     ]
    }
   ],
   "source": [
    "evaluate_alg(X_train, X_test, y_train, y_test, trees, model)"
   ]
  },
  {
   "cell_type": "code",
   "execution_count": 19,
   "metadata": {},
   "outputs": [],
   "source": [
    "y_train_pred = model.predict(X_train)"
   ]
  },
  {
   "cell_type": "code",
   "execution_count": 20,
   "metadata": {},
   "outputs": [
    {
     "data": {
      "text/plain": [
       "0.963036168749641"
      ]
     },
     "execution_count": 20,
     "metadata": {},
     "output_type": "execute_result"
    }
   ],
   "source": [
    "r2_score(y_train_pred, y_train)"
   ]
  },
  {
   "cell_type": "code",
   "execution_count": 21,
   "metadata": {},
   "outputs": [],
   "source": [
    "y_test_pred = model.predict(X_test)"
   ]
  },
  {
   "cell_type": "code",
   "execution_count": 22,
   "metadata": {},
   "outputs": [
    {
     "data": {
      "text/plain": [
       "0.9005779042568214"
      ]
     },
     "execution_count": 22,
     "metadata": {},
     "output_type": "execute_result"
    }
   ],
   "source": [
    "r2_score(y_test_pred, y_test)"
   ]
  },
  {
   "cell_type": "markdown",
   "metadata": {},
   "source": [
    "### Выведем главные компоненты и сравним результат"
   ]
  },
  {
   "cell_type": "code",
   "execution_count": 23,
   "metadata": {},
   "outputs": [
    {
     "name": "stdout",
     "output_type": "stream",
     "text": [
      "Доля дисперсии, описываемая каждой компонентой \n",
      "[11.627001342569688, 11.067155381407176, 10.56320723502046, 10.362066989438974, 10.280327621788981, 9.962962894202814, 9.651309159916512, 9.476324611912798, 8.657770749213215, 8.351874014529393]\n",
      "Кумулятивная доля дисперсии \n",
      "[ 11.62700134  22.69415672  33.25736396  43.61943095  53.89975857\n",
      "  63.86272146  73.51403062  82.99035524  91.64812599 100.        ]\n"
     ]
    }
   ],
   "source": [
    "pca = PCA(n_components = 8)\n",
    "components = pca.fit_transform(X)"
   ]
  },
  {
   "cell_type": "markdown",
   "metadata": {},
   "source": [
    "Довольно много теряем, ибо сет так устроен. \n",
    "\n",
    "Попробуем на 83%, тоесть понизим пространство до 8 признаков"
   ]
  },
  {
   "cell_type": "code",
   "execution_count": 24,
   "metadata": {},
   "outputs": [
    {
     "data": {
      "text/plain": [
       "array([[-0.07342326, -0.9095709 , -0.62549641, ..., -0.06514534,\n",
       "         0.74226336,  0.00279143],\n",
       "       [-0.32316428, -1.71697458,  1.70080402, ..., -2.32672045,\n",
       "        -2.51892844, -0.20971608],\n",
       "       [-0.00317663,  1.27323693,  0.88152529, ..., -0.48989518,\n",
       "        -0.90105594, -0.94441625],\n",
       "       ...,\n",
       "       [-2.39060937, -0.17992891, -0.61642291, ..., -0.54406748,\n",
       "         0.99159429, -0.74152271],\n",
       "       [-1.40090991,  1.40741158, -0.30145907, ...,  1.0325543 ,\n",
       "         0.5216645 , -1.32906562],\n",
       "       [ 1.97405618, -0.45123336, -0.64765529, ...,  0.1626634 ,\n",
       "         1.6016728 , -0.62847938]])"
      ]
     },
     "execution_count": 24,
     "metadata": {},
     "output_type": "execute_result"
    }
   ],
   "source": [
    "pca_components = components[0][:]\n",
    "pca_components"
   ]
  },
  {
   "cell_type": "code",
   "execution_count": 25,
   "metadata": {},
   "outputs": [
    {
     "data": {
      "text/plain": [
       "((700, 8), (300, 8), (700,), (300,))"
      ]
     },
     "execution_count": 25,
     "metadata": {},
     "output_type": "execute_result"
    }
   ],
   "source": [
    "X_train, X_test, y_train, y_test = tts(pca_components,y, test_size=0.3, random_state=21)\n",
    "X_train.shape, X_test.shape, y_train.shape, y_test.shape"
   ]
  },
  {
   "cell_type": "code",
   "execution_count": 26,
   "metadata": {},
   "outputs": [],
   "source": [
    "model_2 = GradBoost(algoritm=RegressionTree, max_depth=8, n_trees=n_trees, alpha=0.1, coef = coefs)\n",
    "trees_pca, train_errors_pca, test_errors_pca = model_2.fit(X_train, X_test, y_train, y_test)"
   ]
  },
  {
   "cell_type": "code",
   "execution_count": 27,
   "metadata": {},
   "outputs": [
    {
     "name": "stdout",
     "output_type": "stream",
     "text": [
      "Ошибка алгоритма из 10 на тренировочной выборке: 452.2235430285971\n",
      "Ошибка алгоритма из 10 на тестовой выборке: 1418.7900555467875\n"
     ]
    }
   ],
   "source": [
    "evaluate_alg(X_train, X_test, y_train, y_test, trees, model_2)"
   ]
  },
  {
   "cell_type": "code",
   "execution_count": 28,
   "metadata": {},
   "outputs": [
    {
     "data": {
      "text/plain": [
       "0.9033756494809713"
      ]
     },
     "execution_count": 28,
     "metadata": {},
     "output_type": "execute_result"
    }
   ],
   "source": [
    "y_train_pred = model_2.predict(X_train)\n",
    "r2_score(y_train_pred, y_train)"
   ]
  },
  {
   "cell_type": "code",
   "execution_count": 29,
   "metadata": {},
   "outputs": [
    {
     "data": {
      "text/plain": [
       "0.7101421399942067"
      ]
     },
     "execution_count": 29,
     "metadata": {},
     "output_type": "execute_result"
    }
   ],
   "source": [
    "y_test_pred = model_2.predict(X_test)\n",
    "r2_score(y_test_pred, y_test)"
   ]
  },
  {
   "cell_type": "markdown",
   "metadata": {},
   "source": [
    "#### Ожидаемо, мы потеряли в точности. Но этот готовый датасет так устроен. Как вариант, можно не заменять исходный датасет, а добавить к примеру первые 2 компоненты к нему и посмотреть на результат"
   ]
  },
  {
   "cell_type": "code",
   "execution_count": 30,
   "metadata": {},
   "outputs": [
    {
     "data": {
      "image/png": "[encoded data removed]",
      "text/plain": [
       "<Figure size 1440x432 with 2 Axes>"
      ]
     },
     "metadata": {
      "needs_background": "light"
     },
     "output_type": "display_data"
    }
   ],
   "source": [
    "x = list(range(1, 11))\n",
    "\n",
    "plt.figure(figsize = (20, 6))\n",
    "\n",
    "plt.subplot(1,2,1)\n",
    "plt.xlim(0, 11)\n",
    "plt.plot(x, train_errors, label='train errors')\n",
    "plt.plot(x, test_errors, label='test errors')\n",
    "plt.xlabel('N')\n",
    "plt.ylabel('Accuracy')\n",
    "plt.title('Legacy')\n",
    "plt.legend(loc='upper right')\n",
    "\n",
    "\n",
    "plt.subplot(1,2,2)\n",
    "plt.xlim(0, 11)\n",
    "plt.plot(x, train_errors_pca, label='train errors')\n",
    "plt.plot(x, test_errors_pca, label='test errors')\n",
    "plt.xlabel('N')\n",
    "plt.ylabel('Accuracy')\n",
    "plt.title('PCA')\n",
    "plt.legend(loc='upper right')\n",
    "\n",
    "plt.show()"
   ]
  },
  {
   "cell_type": "code",
   "execution_count": null,
   "metadata": {},
   "outputs": [],
   "source": []
  }
 ],
 "metadata": {
  "kernelspec": {
   "display_name": "Python 3",
   "language": "python",
   "name": "python3"
  },
  "language_info": {
   "codemirror_mode": {
    "name": "ipython",
    "version": 3
   },
   "file_extension": ".py",
   "mimetype": "text/x-python",
   "name": "python",
   "nbconvert_exporter": "python",
   "pygments_lexer": "ipython3",
   "version": "3.7.6"
  }
 },
 "nbformat": 4,
 "nbformat_minor": 4
}
