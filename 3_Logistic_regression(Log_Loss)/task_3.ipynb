{
 "cells": [
  {
   "cell_type": "code",
   "execution_count": 1,
   "metadata": {},
   "outputs": [],
   "source": [
    "import numpy as np\n",
    "import pandas as pd\n",
    "import matplotlib.pyplot as plt\n",
    "from scipy.stats import norm\n",
    "from sklearn import datasets\n",
    "from sklearn.model_selection import train_test_split\n",
    "%matplotlib inline"
   ]
  },
  {
   "cell_type": "code",
   "execution_count": 2,
   "metadata": {},
   "outputs": [],
   "source": [
    "classes = datasets.make_classification(n_samples = 100, n_features=2, n_informative=2,n_redundant=0, \n",
    "                                       n_classes=2, random_state=42)"
   ]
  },
  {
   "cell_type": "code",
   "execution_count": 3,
   "metadata": {},
   "outputs": [],
   "source": [
    "class logistic_regression:\n",
    "    def __init__(self, n_iterations=1000, eta=0.05):\n",
    "        self.n_iterations = 1000\n",
    "        self.eta = eta\n",
    "\n",
    "    @staticmethod\n",
    "    def log_grad(w, c, X, target):\n",
    "        m = X.shape[0]\n",
    "        y = (2 * target - 1)\n",
    "        score = np.dot(X, w.T).flatten()\n",
    "        Z = -y / (m * (1 + np.exp(y * score)))\n",
    "        grad = Z[np.newaxis, :].dot(X)\n",
    "        return grad, np.sum(Z)\n",
    "\n",
    "    @classmethod\n",
    "    def optimize(cls, w, c, X, y, n_iterations, eta):\n",
    "        for i in range(n_iterations):\n",
    "            grad_w, grad_c = cls.log_grad(w, c, X, y)\n",
    "            w = w - eta * grad_w\n",
    "            c = c - eta * grad_c\n",
    "        return w, c\n",
    "\n",
    "    def fit(self, X, y):\n",
    "        self.X = X\n",
    "        self.y_true = y\n",
    "        w0 = np.zeros((1, X.shape[1]))\n",
    "        c0 = 0\n",
    "        self.w, self.c = self.optimize(w0, c0, X, y, self.n_iterations, self.eta)\n",
    "\n",
    "    def predict_proba(self, X):\n",
    "        score = X.dot(self.w.T).flatten() + self.c\n",
    "        self.score = score\n",
    "        return 1 / (1 + np.exp(-score))\n",
    "\n",
    "    def predict(self, X, thr=0.5):\n",
    "        proba = self.predict_proba(X)\n",
    "        y_predicted = np.zeros(proba.shape, dtype=bool)\n",
    "        y_predicted[proba > thr] = 1\n",
    "        y_predicted[proba <= thr] = 0\n",
    "        self.y_predicted = y_predicted\n",
    "        return y_predicted\n",
    "    \n",
    "    def confusion_matrix(self,X,y,thr):\n",
    "        y_pred = self.predict(X,thr = thr)\n",
    "        predicted = np.where(y_pred == True, 1, 0)\n",
    "        TP=np.sum(np.logical_and(predicted==1, y==1))\n",
    "        FP=np.sum(np.logical_and(predicted==1, y==0))\n",
    "        FN=np.sum(np.logical_and(predicted==0, y==1))\n",
    "        TN=np.sum(np.logical_and(predicted==0, y==0))\n",
    "        return pd.DataFrame(data = [[TP,FP],[FN,TN]], columns = ['1','0'])\n",
    "         \n",
    "        \n",
    "    def make_auc(self, X, Y, auc = 0):\n",
    "        \"\"\"\n",
    "        \"\"\"\n",
    "        prob_x = self.predict_proba(X)\n",
    "        targets = Y\n",
    "        order = np.argsort(prob_x.flatten())\n",
    "        targets = targets[order]\n",
    "        \"\"\"\n",
    "        \"\"\"\n",
    "        num_pos=np.sum(targets)\n",
    "        num_neg=len(targets)-num_pos\n",
    "\n",
    "        TPR=np.concatenate([[0], np.cumsum(1-targets)/(num_neg)])\n",
    "        FPR=np.concatenate([[0], np.cumsum(targets)/(num_pos)])\n",
    "        \n",
    "        if auc == 0:\n",
    "            AUC_ROC = np.trapz(TPR, x = FPR, dx=0.1)\n",
    "            plt.title('ROC curve')\n",
    "            plt.ylim(0, 1.05)\n",
    "            plt.xlabel('FPR')\n",
    "            plt.ylabel('TPR')\n",
    "            plt.grid()\n",
    "            plt.legend(' ', title=f'AUC-ROC={AUC_ROC:.3f}')\n",
    "            plt.plot(FPR, TPR)\n",
    "        if auc == 1:\n",
    "            precision=np.cumsum(1-targets)/(np.cumsum(1-targets)+np.cumsum(targets))\n",
    "            recall = TPR\n",
    "            AUC_PR = np.sum(precision*(TPR[1:]-TPR[:-1]))\n",
    "            plt.title('PR curve')\n",
    "            plt.ylim(0, 1.05)\n",
    "            plt.xlabel('recall')\n",
    "            plt.ylabel('presision')\n",
    "            plt.grid()\n",
    "            plt.legend(' ', title=f'AUC-PR={AUC_PR:.3f}')\n",
    "            plt.plot(recall[1:], precision)"
   ]
  },
  {
   "cell_type": "code",
   "execution_count": 4,
   "metadata": {},
   "outputs": [],
   "source": [
    "X_train,X_test,y_train,y_test = train_test_split(classes[0], classes[1], shuffle = True, test_size = 0.3, random_state = 42)"
   ]
  },
  {
   "cell_type": "code",
   "execution_count": 5,
   "metadata": {},
   "outputs": [],
   "source": [
    "model=logistic_regression()\n",
    "model.fit(X_train, y_train)\n",
    "y_predicted_test = model.predict(X_test)"
   ]
  },
  {
   "cell_type": "code",
   "execution_count": 6,
   "metadata": {},
   "outputs": [
    {
     "data": {
      "image/png": "[encoded data removed]",
      "text/plain": [
       "<Figure size 432x288 with 1 Axes>"
      ]
     },
     "metadata": {
      "needs_background": "light"
     },
     "output_type": "display_data"
    }
   ],
   "source": [
    "model.make_auc(X_test, y_test, auc = 1)"
   ]
  },
  {
   "cell_type": "code",
   "execution_count": 7,
   "metadata": {},
   "outputs": [
    {
     "data": {
      "image/png": "[encoded data removed]",
      "text/plain": [
       "<Figure size 432x288 with 1 Axes>"
      ]
     },
     "metadata": {
      "needs_background": "light"
     },
     "output_type": "display_data"
    }
   ],
   "source": [
    "model.make_auc(X_test,y_test,auc = 0)"
   ]
  },
  {
   "cell_type": "code",
   "execution_count": null,
   "metadata": {},
   "outputs": [],
   "source": []
  }
 ],
 "metadata": {
  "kernelspec": {
   "display_name": "Python 3",
   "language": "python",
   "name": "python3"
  },
  "language_info": {
   "codemirror_mode": {
    "name": "ipython",
    "version": 3
   },
   "file_extension": ".py",
   "mimetype": "text/x-python",
   "name": "python",
   "nbconvert_exporter": "python",
   "pygments_lexer": "ipython3",
   "version": "3.8.4"
  }
 },
 "nbformat": 4,
 "nbformat_minor": 4
}
