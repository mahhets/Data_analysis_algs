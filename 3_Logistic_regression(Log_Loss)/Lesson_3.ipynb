{
  "nbformat": 4,
  "nbformat_minor": 0,
  "metadata": {
    "kernelspec": {
      "display_name": "Python 3",
      "language": "python",
      "name": "python3"
    },
    "language_info": {
      "codemirror_mode": {
        "name": "ipython",
        "version": 3
      },
      "file_extension": ".py",
      "mimetype": "text/x-python",
      "name": "python",
      "nbconvert_exporter": "python",
      "pygments_lexer": "ipython3",
      "version": "3.7.1"
    },
    "colab": {
      "name": "Lesson_3.ipynb",
      "provenance": [],
      "collapsed_sections": []
    }
  },
  "cells": [
    {
      "cell_type": "markdown",
      "metadata": {
        "id": "QxTQ6b1GWjr2"
      },
      "source": [
        "## Линейная классификация"
      ]
    },
    {
      "cell_type": "markdown",
      "metadata": {
        "id": "jVKnqZEmWjr0"
      },
      "source": [
        "# Урок 3. Классификация. Логистическая регрессия."
      ]
    },
    {
      "cell_type": "markdown",
      "metadata": {
        "id": "o0zTMhamWjr3"
      },
      "source": [
        "До этого мы разговаривали о задачах регрессии, то есть о восстановлении непрерывной зависимости по имеющимся данным. Однако, это не единственный тип задач в машинном обучении. В этом уроке речь пойдет о задачах _классификации_. Это такие задачи, в которых объекты делятся на конечное количество классов, и целью обучения является получение модели, способной соотносить объекты к тому или иному классу. \n",
        "\n",
        "Простейшим случаем является _бинарная классификация_, то есть случай, когда у нас имеется два класса. Единственное отличие от линейной регресси здесь в том, что пространство ответов состоит из двух элементов, в нашем случае возьмем $\\mathbb{Y} = \\{-1,1\\}$, где -1 и 1 означают принадлежность к первому или второму классу, соответственно. Пример такой задачи упоминался на первом уроке, когда говорилось о распознавании спам-писем. В этом случае, -1 означало, что письмо не является спамом, а 1 - что является."
      ]
    },
    {
      "cell_type": "markdown",
      "metadata": {
        "id": "dwXb9QzEWjr4"
      },
      "source": [
        "Как и в случае регрессии, в классификации можно использовать линейные модели. Это называется _линейной классификацией._ Линейные классификаторы устроены похожим на линейную регрессию образом, за одним лишь различием - для получения бинарных значений берется только знак от значения $a(x)$:\n",
        "\n",
        "$$a(x) = \\text{sign}\\left (w_{0}+\\sum^{d}_{i=1}w_{i}x^{i} \\right ).$$\n",
        "\n",
        "Аналогично линейной регрессии, после добавления константного признака формула имеет вид\n",
        "\n",
        "$$\\text{sign} \\left ( \\sum^{d+1}_{i=1}w_{i}x^{i} \\right ) = \\text{sign} \\left ( \\left \\langle w,x \\right \\rangle \\right ).$$"
      ]
    },
    {
      "cell_type": "markdown",
      "metadata": {
        "id": "BinRsFPdWjr4"
      },
      "source": [
        "Множество точек $\\left \\langle w,x \\right \\rangle = 0$ образует _гиперплоскость_ в пространстве признаков и делит его на две части. Объекты, расположенние по разные стороны от нее, относятся к разным классам.\n",
        "\n",
        "Стоит отметить, что для некоторого объекта $x$ расстояние до этой гиперплоскости будет равняться $\\frac{| \\left \\langle w,x \\right \\rangle |}{||w||}$, соответственно, при классификации нам важен не только знак скалярного произведения $\\left \\langle w,x \\right \\rangle$, но и его значение: чем выше оно, тем больше будет расстояние от объекта до разделяющей гиперплоскости, что будет означать, что алгоритм более уверен в отнесении объекта к данному классу. Это приводит нас к значению _отступа_, который равен скалярному произведению вектора весов $w$ на вектор признаков $x$, умноженному на истинное значение ответа $y$, которое, как мы помним, принимает значения -1 и 1:\n",
        "\n",
        "$$M_{i}=y_{i}\\left \\langle w,x_{i} \\right \\rangle.$$\n",
        "\n",
        "Таким образом, если скалярное произведение отрицательно, и истинный ответ равен -1, отступ будет больше нуля. Если скалярное произведение положительно, и истинный ответ равен 1, отступ также будет положителен. То есть $M_{i}>0$, когда классификатор дает верный ответ, и $M_{i}<0$, когда классификатор ошибается. Отступ характеризует корректность ответа, а его абсолютное значение свидетельствует о расстоянии от разделяющей гиперплоскости, то есть о мере уверенности в ответе."
      ]
    },
    {
      "cell_type": "markdown",
      "metadata": {
        "id": "hqXJRE2bWjr5"
      },
      "source": [
        "### Функционал ошибки в линейной классификации"
      ]
    },
    {
      "cell_type": "markdown",
      "metadata": {
        "id": "PZE9IJfpWjr6"
      },
      "source": [
        "Как и в случае линейно регрессии, для обучения алгоритма линейной классификации требуется измерять ошибку. По аналогии с средней абсолютной ошибкой и среднеквадратичной ошибкой в случае линейной классификации можно использовать естественный подход: так как возможных ответов конечное число, можно требовать полного совпадения предсказанного класса $a(x_{i})$ и истинного $y_{i}$. Тогда в качестве функционала ошибки можно использовать долю неправильных ответов:\n",
        "\n",
        "$$Q(a, X) = \\frac{1}{l}\\sum^{l}_{i=1}[a(x_{i}) \\neq y_{i}]$$\n",
        "\n",
        "или, используя понятие отступа,\n",
        "\n",
        "$$Q(a, X) = \\frac{1}{l}\\sum^{l}_{i=1}[M_{i}<0] = \\frac{1}{l}\\sum^{l}_{i=1}[y_{i}\\left \\langle w,x_{i} \\right \\rangle < 0].$$"
      ]
    },
    {
      "cell_type": "markdown",
      "metadata": {
        "id": "X33NjwGXWjr6"
      },
      "source": [
        "Функция, стоящая под знаком суммы, называется _функцией потерь_. График ее в зависимости от отступа будет иметь пороговый вид:"
      ]
    },
    {
      "cell_type": "code",
      "metadata": {
        "id": "sg7z9JsRWjr7"
      },
      "source": [
        "import matplotlib.pyplot as plt\n",
        "import numpy as np\n",
        "\n",
        "%matplotlib inline"
      ],
      "execution_count": null,
      "outputs": []
    },
    {
      "cell_type": "code",
      "metadata": {
        "id": "52JJBg6lWjr-"
      },
      "source": [
        "def loss_function(x):\n",
        "    return 0 if x > 0 else 1"
      ],
      "execution_count": null,
      "outputs": []
    },
    {
      "cell_type": "code",
      "metadata": {
        "id": "GTNFAk4pWjsB",
        "colab": {
          "base_uri": "https://localhost:8080/"
        },
        "outputId": "5d95d9d6-c722-4947-cefa-423deb3efa7e"
      },
      "source": [
        "dots = np.linspace(-1, 1, 1000)\n",
        "q_zero_one_loss = [loss_function(x) for x in dots]\n",
        "\n",
        "plt.xlabel('Mi')\n",
        "plt.xlim(-1, 1)\n",
        "plt.plot(dots, q_zero_one_loss)"
      ],
      "execution_count": null,
      "outputs": [
        {
          "output_type": "execute_result",
          "data": {
            "text/plain": [
              "[<matplotlib.lines.Line2D at 0x7f50ebf4e390>]"
            ]
          },
          "metadata": {
            "tags": []
          },
          "execution_count": 3
        },
        {
          "output_type": "display_data",
          "data": {
            "image/png": "[encoded data removed]",
            "text/plain": [
              "<Figure size 432x288 with 1 Axes>"
            ]
          },
          "metadata": {
            "tags": [],
            "needs_background": "light"
          }
        }
      ]
    },
    {
      "cell_type": "markdown",
      "metadata": {
        "id": "rxOij1O9WjsE"
      },
      "source": [
        "Она называется _пороговой функцией потерь_ или 1/0 функцией потерь. Как мы видим, она негладкая, поэтому градинентные методы оптимизации к ней неприменимы. Для упрощения оптимизации используют гладкие оценки сверху этой функции, то есть такие функции, что \n",
        "\n",
        "$$[M_{i}<0] \\leq \\tilde{L}(M_{i}).$$\n",
        "\n",
        "Тогда минимизировать уже нужно эту новую функцию:\n",
        "\n",
        "$$Q(a, X) \\leq \\tilde Q(a, X) = \\frac{1}{l}\\sum^{l}_{i=1}\\tilde{L}(M_{i}) \\rightarrow \\underset{w}{\\text{min}}.$$\n",
        "\n",
        "Примерами могут быть:\n",
        "\n",
        "- _экспоненциальная функция потерь_ $\\tilde{L}(M_{i}) = \\text{exp}(- M_{i})$\n",
        "\n",
        "\n",
        "- _квадратичная функция потерь_ $\\tilde{L}(M_{i}) = (1- (M_{i}))^{2}$\n",
        "\n",
        "\n",
        "- _логистическая функция потерь_ $\\tilde{L}(M_{i}) = \\text{log}_{2}(1 + \\text{exp}(- M_{i}))$\n",
        "\n",
        "\n",
        "- и др. (см. доп. материалы)\n",
        "\n",
        "Реализуем их и построим соответствующие графики."
      ]
    },
    {
      "cell_type": "code",
      "metadata": {
        "id": "v3tpAnEQWjsF"
      },
      "source": [
        "def exp_loss_func(x):\n",
        "    return np.exp(-x)"
      ],
      "execution_count": null,
      "outputs": []
    },
    {
      "cell_type": "code",
      "metadata": {
        "id": "4GV0RcxPWjsH"
      },
      "source": [
        "def square_loss(x):\n",
        "    return (1 - x) ** 2"
      ],
      "execution_count": null,
      "outputs": []
    },
    {
      "cell_type": "code",
      "metadata": {
        "id": "jQQp4gx6WjsK"
      },
      "source": [
        "def logistic_loss(x):\n",
        "    return np.log2(1 + np.exp(-x))"
      ],
      "execution_count": null,
      "outputs": []
    },
    {
      "cell_type": "code",
      "metadata": {
        "id": "4XE8E9QqWjsM",
        "colab": {
          "base_uri": "https://localhost:8080/"
        },
        "outputId": "782d3c96-a749-4a69-a650-7e37a21f9c44"
      },
      "source": [
        "q_exp_loss = [exp_loss_func(x) for x in dots]\n",
        "q_logistic_loss = [logistic_loss(x) for x in dots]\n",
        "q_square_loss = [square_loss(x) for x in dots]\n",
        "\n",
        "plt.xlabel('Mi')\n",
        "plt.xlim(-1, 1)\n",
        "plt.plot(dots, q_zero_one_loss)\n",
        "plt.plot(dots, q_exp_loss)\n",
        "plt.plot(dots, q_square_loss)\n",
        "plt.plot(dots, q_logistic_loss)\n",
        "plt.legend(['zero-one loss', 'exponential loss', 'square loss', 'logistic loss'])"
      ],
      "execution_count": null,
      "outputs": [
        {
          "output_type": "execute_result",
          "data": {
            "text/plain": [
              "<matplotlib.legend.Legend at 0x7f50eb99b350>"
            ]
          },
          "metadata": {
            "tags": []
          },
          "execution_count": 7
        },
        {
          "output_type": "display_data",
          "data": {
            "image/png": "[encoded data removed]",
            "text/plain": [
              "<Figure size 432x288 with 1 Axes>"
            ]
          },
          "metadata": {
            "tags": [],
            "needs_background": "light"
          }
        }
      ]
    },
    {
      "cell_type": "markdown",
      "metadata": {
        "id": "tv0zYuyqWjsQ"
      },
      "source": [
        "Все они оценивают функцию потерь сверху и при этом хорошо оптимизируются."
      ]
    },
    {
      "cell_type": "markdown",
      "metadata": {
        "id": "h5MlNOS7WjsR"
      },
      "source": [
        "## Логистическая регрессия"
      ]
    },
    {
      "cell_type": "markdown",
      "metadata": {
        "id": "Urh_FsvlWjsS"
      },
      "source": [
        "_Логистическая регрессия_ - частный случай линейного классификатора, обладающий одной полезной особенностью - помимо отнесения объекта к определенному классу она умеет прогнозировать вероятность $P$ того, что объект относится к этому классу."
      ]
    },
    {
      "cell_type": "markdown",
      "metadata": {
        "id": "2IZd3LR9WjsT"
      },
      "source": [
        "Во многих задачах такая особенность является очень важной. Например, в задачах кредитного скоринга (предсказание, вернет клиент кредит или нет) прогнозируют вероятность невозврата кредита и на основании нее принимают решение о выдаче или невыдаче."
      ]
    },
    {
      "cell_type": "markdown",
      "metadata": {
        "id": "AhYaDtqMWjsT"
      },
      "source": [
        "Пусть в каждой точке пространства объектов $\\mathbb{X}$ задана вероятность того, что объект $x$ будет принадлежать к классу \"+1\" $P(y=1|x)$ (условная вероятность $y = 1$ при условии $x$). Она будет принимать значения от 0 до 1, и нам нужно каким-то образом ее предсказывать, но пока мы умеем только строить прогноз методами линейной регрессии с помощью некоего алгоритма $b(x)=\\left \\langle w,x_{i} \\right \\rangle$. У него есть проблема, связанная с тем, что скалярное произведение $\\left \\langle w,x_{i} \\right \\rangle$ не всегда возвращает значения в отрезке [0, 1]. Чтобы достичь такого условия, можно использовать некую функцию $\\sigma:\\mathbb{R} \\rightarrow [0,1]$, которая будет переводить полученное в скалярном произведении значение в вероятность, пределы которой будут лежать в промежутке от 0 до 1. В модели логистической регрессии в качестве такой функции берется сигмоида, которая имеет вид:\n",
        "\n",
        "$$\\sigma(z) = \\frac{1}{1 + exp(-z)}.$$"
      ]
    },
    {
      "cell_type": "markdown",
      "metadata": {
        "id": "TqjAuOdgWjsU"
      },
      "source": [
        "Изобразим ее типичный график."
      ]
    },
    {
      "cell_type": "code",
      "metadata": {
        "id": "uCAPY32dWjsX",
        "colab": {
          "base_uri": "https://localhost:8080/",
          "height": 297
        },
        "outputId": "241276d3-2a67-4962-c088-89da3d3fbf92"
      },
      "source": [
        "def sigmoid(x):\n",
        "  return  1/(1+np.exp(-x))\n",
        "\n",
        "\n",
        "\n",
        "\n",
        "  \n",
        "dots = np.linspace(-10, 10, 100)\n",
        "sigmoid_value = list(map(sigmoid, dots))\n",
        "\n",
        "plt.xlabel('x')\n",
        "plt.ylabel('sigmoid(x)')\n",
        "plt.grid()\n",
        "plt.plot(dots, sigmoid_value)"
      ],
      "execution_count": null,
      "outputs": [
        {
          "output_type": "execute_result",
          "data": {
            "text/plain": [
              "[<matplotlib.lines.Line2D at 0x7f50eb942190>]"
            ]
          },
          "metadata": {
            "tags": []
          },
          "execution_count": 8
        },
        {
          "output_type": "display_data",
          "data": {
            "image/png": "[encoded data removed]",
            "text/plain": [
              "<Figure size 432x288 with 1 Axes>"
            ]
          },
          "metadata": {
            "tags": [],
            "needs_background": "light"
          }
        }
      ]
    },
    {
      "cell_type": "markdown",
      "metadata": {
        "id": "GmmM4TpFWjsZ"
      },
      "source": [
        "При использовании такой функции $\\tilde{b}(x_{i}) = \\sigma(\\left \\langle w,x_{i} \\right \\rangle)$ получаем, что вероятность отнесения объекта к классу \"+1\" $P(y=1|x)$, которую для краткости обозначим $p_{+}$, будет равняться\n",
        "\n",
        "$$p_{+} = \\sigma(\\left \\langle w,x_{i} \\right \\rangle) = \\frac{1}{1 + exp(-\\left \\langle w,x_{i} \\right \\rangle)},$$\n",
        "\n",
        "Чем больше будет скалярное произведение $\\left \\langle w,x_{i} \\right \\rangle$, тем выше будет предсказанная вероятность."
      ]
    },
    {
      "cell_type": "markdown",
      "metadata": {
        "id": "1BxRP1WYWjsa"
      },
      "source": [
        "Чтобы понять, как его интерпретировать, выведем его из формулы выше:\n",
        "\n",
        "$$\\left \\langle w,x_{i} \\right \\rangle = \\text{ln} \\frac{p_{+}}{1 - p_{+}}.$$\n",
        "\n",
        "Таким образом, скалярное произведение вектора весов на вектор признаков представляет собой логарифм отношения вероятностей того, что y = 1 к вероятности того, что y = -1. Выражение под логарифмом называется _риском_, а вместе с логарифмом это выражение называется _логитом_. Поэтому метод и называется логистической регрессией: мы приближаем логит линейной комбинацией признаков и весов."
      ]
    },
    {
      "cell_type": "markdown",
      "metadata": {
        "id": "OR_0UT1sWjsb"
      },
      "source": [
        "Далее для обучения этой модели нам потребуется использовать _метод максимального правдоподобия_ (см. доп. материалы). Его сущность заколючается в выборе гипотезы, при которой вероятность получить имеющееся наблюдение максимальна.\n",
        "\n",
        "С точки зрения реализуемого алгоритма вероятность того, что в выборке встретится объект $x_{i}$ c классом $y_{i}$, равна\n",
        "\n",
        "$$P(y=y_{i}|x_{i}) = p_{+}^{[y_{i}=+1]}(1-p_{+})^{[y_{i}=-1]}.$$\n",
        "\n",
        "Исходя из этого, правдоподобие выборки (т.е. вероятность получить такую выборку с точки зрения алгоритма) будет равняться произведению вероятностей получения каждого имеющегося ответа:\n",
        "\n",
        "$$P(y|X) = L(X) = \\prod^{l}_{i=1} p_{+}^{[y_{i}=+1]}(1-p_{+})^{[y_{i}=-1]}.$$\n",
        "\n",
        "Правдоподобие можно использовать как функционал для обучения алгоритма, однако, удобнее взять от него логарифм, так как в этом случае произведение превратится в сумму, а сумму гораздо проще оптимизировать. Также, в отличие от рассмотренных ранее функций потерь, правдоподобие требуется максимизировать для обучения алгоритма, а не минимизировать. Поэтому для большего удобства перед правдоподобием ставят минус, поскольку функции потери в задачах регрессии принято минимизировать. В итоге получим:\n",
        "\n",
        "$$-\\text{ln}L(X) = -\\sum^{l}_{i=1}([y_{i} = +1] \\text{ln}p_{+}) + [y_{i} = -1]\\text{ln}(1 - p_{+}))).$$\n",
        "\n",
        "Данная функция потерь называется _логарифмической функцией потерь (log loss)_ или _кросс-энтропией_."
      ]
    },
    {
      "cell_type": "markdown",
      "metadata": {
        "id": "tQ55IxJ5Wjsc"
      },
      "source": [
        "Если мы подставим в нее полученное ранее выражение для $p_{+}$ для сигмоиды, получим:\n",
        "\n",
        "$$-\\text{ln}L(X) = -\\sum^{l}_{i=1}([y_{i} = +1] \\text{ln}\\frac{1}{1 + exp(-\\left \\langle w,x_{i} \\right \\rangle)}) + [y_{i} = -1]\\text{ln}(1 - \\frac{1}{1 + exp(-\\left \\langle w,x_{i} \\right \\rangle)}))) =$$\n",
        "\n",
        "$$=-\\sum^{l}_{i=1} \\text{ln}(1 + exp(\\left \\langle w,x_{i} \\right \\rangle))$$\n",
        "\n",
        "В случае, когда имеются классы 1 и -1.\n"
      ]
    },
    {
      "cell_type": "markdown",
      "metadata": {
        "id": "Y2rGHbQkWjsd"
      },
      "source": [
        "То есть в случае логистической регрессии обучение сводится к минимизации этого функционала. Обратите внимание, что мы получили функцию, аналогичную показанной ранее логистической функции потерь, с точность до коэффициента $\\frac{1}{ln(2)}$, так как выражение в скобках как раз представляет собой отступ $M_{i}$."
      ]
    },
    {
      "cell_type": "markdown",
      "metadata": {
        "id": "jiILjPR9Wjse"
      },
      "source": [
        "В случае, когда $y$ принимает значения 0 и 1, log loss запишется как\n",
        "\n",
        "$$-\\text{ln}L(X) = -\\sum^{l}_{i=1} (y_{i} \\text{ln}\\frac{1}{1 + exp(-\\left \\langle w,x_{i} \\right \\rangle)} + (1 - y_{i})\\text{ln} \\frac{exp(-\\left \\langle w,x_{i} \\right \\rangle)}{1 + exp(-\\left \\langle w,x_{i} \\right \\rangle)}).$$"
      ]
    },
    {
      "cell_type": "markdown",
      "metadata": {
        "id": "rx8q4AbEWjsf"
      },
      "source": [
        "### Реализация логистической регрессии"
      ]
    },
    {
      "cell_type": "markdown",
      "metadata": {
        "id": "lRslRTEAWjsg"
      },
      "source": [
        "Напишем алгоритм логистической регрессии."
      ]
    },
    {
      "cell_type": "code",
      "metadata": {
        "id": "K6sxbQYJWjsh",
        "colab": {
          "base_uri": "https://localhost:8080/"
        },
        "outputId": "74cfa3a3-16e2-4950-cdfc-51984cf3002f"
      },
      "source": [
        "from sklearn import datasets\n",
        "from matplotlib.colors import ListedColormap\n",
        "\n",
        "# сгеренируем данные с помощью sklearn.datasets\n",
        "classes = datasets.make_classification(n_samples=100, n_features=2, n_informative=2,\n",
        "                                       n_redundant=0, n_classes=2, random_state=1)\n",
        "# datasets.make_blobs(centers = 2, cluster_std = 1.5, random_state=12)\n",
        "\n",
        "# и изобразим их на графике\n",
        "colors = ListedColormap(['red', 'blue'])\n",
        "\n",
        "plt.figure(figsize=(8, 8))\n",
        "plt.scatter([x[0] for x in classes[0]], [x[1] for x in classes[0]], c=classes[1], cmap=colors)"
      ],
      "execution_count": null,
      "outputs": [
        {
          "output_type": "execute_result",
          "data": {
            "text/plain": [
              "<matplotlib.collections.PathCollection at 0x7f50dbdd5410>"
            ]
          },
          "metadata": {
            "tags": []
          },
          "execution_count": 9
        },
        {
          "output_type": "display_data",
          "data": {
            "image/png": "[encoded data removed]",
            "text/plain": [
              "<Figure size 576x576 with 1 Axes>"
            ]
          },
          "metadata": {
            "tags": [],
            "needs_background": "light"
          }
        }
      ]
    },
    {
      "cell_type": "markdown",
      "metadata": {
        "id": "I0wmCApKWjsj"
      },
      "source": [
        "Далее разделим выборку на обучающую и тестовую. При реальной работе, если нет специфических требований по сохранению порядка выборки, ее полезно перемешивать, так как данные в ней могут быть каким-либо образом отсортированы. Это может негативно сказаться на процессе обучения."
      ]
    },
    {
      "cell_type": "code",
      "metadata": {
        "id": "3Grk26bHWjsk",
        "colab": {
          "base_uri": "https://localhost:8080/"
        },
        "outputId": "234da7d6-125b-478c-f560-57c765c568ef"
      },
      "source": [
        "# перемешивание датасета\n",
        "np.random.seed(12)\n",
        "shuffle_index = np.random.permutation(classes[0].shape[0])\n",
        "X_shuffled, y_shuffled = classes[0][shuffle_index], classes[1][shuffle_index]\n",
        "\n",
        "# разбивка на обучающую и тестовую выборки\n",
        "train_proportion = 0.7\n",
        "train_test_cut = int(len(classes[0]) * train_proportion)\n",
        "\n",
        "X_train, X_test, y_train, y_test = \\\n",
        "    X_shuffled[:train_test_cut], \\\n",
        "    X_shuffled[train_test_cut:], \\\n",
        "    y_shuffled[:train_test_cut], \\\n",
        "    y_shuffled[train_test_cut:]\n",
        "    \n",
        "print(\"Размер массива признаков обучающей выборки\", X_train.shape)\n",
        "print(\"Размер массива признаков тестовой выборки\", X_test.shape)\n",
        "print(\"Размер массива ответов для обучающей выборки\", y_train.shape)\n",
        "print(\"Размер массива ответов для тестовой выборки\", y_test.shape)"
      ],
      "execution_count": null,
      "outputs": [
        {
          "output_type": "stream",
          "text": [
            "Размер массива признаков обучающей выборки (70, 2)\n",
            "Размер массива признаков тестовой выборки (30, 2)\n",
            "Размер массива ответов для обучающей выборки (70,)\n",
            "Размер массива ответов для тестовой выборки (30,)\n"
          ],
          "name": "stdout"
        }
      ]
    },
    {
      "cell_type": "markdown",
      "metadata": {
        "id": "BUotFcKaWjsm"
      },
      "source": [
        "Далее транспонируем матрицы данных, так как нам удобнее работать со строками"
      ]
    },
    {
      "cell_type": "code",
      "metadata": {
        "id": "tzHyJ_vBWjsn"
      },
      "source": [
        "X_train_tr = X_train.transpose()\n",
        "y_train_tr = y_train.reshape(1, y_train.shape[0])\n",
        "X_test_tr = X_test.transpose()\n",
        "y_test_tr = y_test.reshape(1, y_test.shape[0])"
      ],
      "execution_count": null,
      "outputs": []
    },
    {
      "cell_type": "markdown",
      "metadata": {
        "id": "AWeymQIWWjsq"
      },
      "source": [
        "Реализуем функцию потерь log loss с одновременным расчетом градиента."
      ]
    },
    {
      "cell_type": "markdown",
      "metadata": {
        "id": "Xw1hB380Wjsr"
      },
      "source": [
        "Оптимизировать функционал ошибки будем с помощью градиентного спуска, его вид в случае использования такой функции потерь будет:\n",
        "\n",
        "$$w_{n+1} = w_{n} - \\eta \\frac{1}{l}X(A-Y)^{T},$$\n",
        "\n",
        "где $A=\\frac{1}{1 + exp(-\\left \\langle w,x_{i} \\right \\rangle)}.$"
      ]
    },
    {
      "cell_type": "code",
      "metadata": {
        "id": "MojlVOSyWjsV"
      },
      "source": [
        "def sigmoid(x):\n",
        "    return 1 / (1 + np.exp(-x))"
      ],
      "execution_count": null,
      "outputs": []
    },
    {
      "cell_type": "code",
      "metadata": {
        "id": "XhyYS76iWjss"
      },
      "source": [
        "def log_loss(w, X, y):\n",
        "    m = X.shape[1]\n",
        "\n",
        "    # используем функцию сигмоиды, написанную ранее\n",
        "    A = sigmoid(np.dot(w.T, X)) # вероятность отнесения объекта к классу \"+1\"\n",
        "    \n",
        "    # loss = -1.0 / m * np.sum(y * np.log(A) + (1 - y) * np.log(1 - A))\n",
        "    loss = -1.0 / m * np.log(1 + np.exp(np.dot(w.T, X)))\n",
        "    grad = 1.0 / m * np.dot(X, (A - y).T)\n",
        "    \n",
        "    return loss, grad"
      ],
      "execution_count": null,
      "outputs": []
    },
    {
      "cell_type": "markdown",
      "metadata": {
        "id": "zChpWQBVWjsx"
      },
      "source": [
        "Реализуем градиентный спуск"
      ]
    },
    {
      "cell_type": "code",
      "metadata": {
        "id": "KwgPL740Wjsy"
      },
      "source": [
        "def optimize(w, X, y, n_iterations, eta):\n",
        "#     потери будем записывать в список для отображения в виде графика\n",
        "    losses = []\n",
        "    \n",
        "    for i in range(n_iterations):        \n",
        "        loss, grad = log_loss(w, X, y)\n",
        "        w = w - eta * grad\n",
        "\n",
        "        losses.append(loss)\n",
        "        \n",
        "    return w, losses"
      ],
      "execution_count": null,
      "outputs": []
    },
    {
      "cell_type": "markdown",
      "metadata": {
        "id": "aYXIC_XoWjs0"
      },
      "source": [
        "и функцию для выполнения предсказаний"
      ]
    },
    {
      "cell_type": "code",
      "metadata": {
        "id": "zEQzLyXSWjs1"
      },
      "source": [
        "def predict(w, X):\n",
        "    \n",
        "    m = X.shape[1]\n",
        "    \n",
        "    y_predicted = np.zeros((1, m))\n",
        "    w = w.reshape(X.shape[0], 1)\n",
        "    \n",
        "    A = sigmoid(np.dot(w.T, X))\n",
        "    \n",
        "#     За порог отнесения к тому или иному классу примем вероятность 0.5\n",
        "    for i in range(A.shape[1]):\n",
        "        if (A[:,i] > 0.5): \n",
        "            y_predicted[:, i] = 1\n",
        "        elif (A[:,i] <= 0.5):\n",
        "            y_predicted[:, i] = 0\n",
        "    \n",
        "    return y_predicted"
      ],
      "execution_count": null,
      "outputs": []
    },
    {
      "cell_type": "code",
      "metadata": {
        "id": "x2e3t2NZWjs3",
        "colab": {
          "base_uri": "https://localhost:8080/"
        },
        "outputId": "17332aee-c1a0-4684-93ae-c6d0e7b954f3"
      },
      "source": [
        "# иницилизируем начальный вектор весов\n",
        "w0 = np.zeros((X_train_tr.shape[0], 1))\n",
        "\n",
        "n_iterations = 1000\n",
        "eta = 0.05\n",
        "\n",
        "w, losses = optimize(w0, X_train_tr, y_train_tr, n_iterations, eta)\n",
        "\n",
        "y_predicted_test = predict(w, X_test_tr)\n",
        "y_predicted_train = predict(w, X_train_tr)\n",
        "\n",
        "# В качестве меры точности возьмем долю правильных ответов\n",
        "train_accuracy = 100.0 - np.mean(np.abs(y_predicted_train - y_train_tr)*100.0)\n",
        "test_accuracy = 100.0 - np.mean(np.abs(y_predicted_test-y_test_tr)*100.0)\n",
        "\n",
        "print(f\"Итоговый вектор весов w: {w}\")\n",
        "print(f\"Точность на обучающей выборке: {train_accuracy:.3f}\")\n",
        "print(f\"Точность на тестовой выборке: {test_accuracy:.3f}\")"
      ],
      "execution_count": null,
      "outputs": [
        {
          "output_type": "stream",
          "text": [
            "Итоговый вектор весов w: [[3.72659902]\n",
            " [0.22383415]]\n",
            "Точность на обучающей выборке: 98.571\n",
            "Точность на тестовой выборке: 96.667\n"
          ],
          "name": "stdout"
        }
      ]
    },
    {
      "cell_type": "markdown",
      "metadata": {
        "id": "tVAOczz8Wjs5"
      },
      "source": [
        "Покажем, как менялась при этом функция потерь."
      ]
    },
    {
      "cell_type": "code",
      "metadata": {
        "scrolled": true,
        "id": "DibJKnsfWjs6",
        "colab": {
          "base_uri": "https://localhost:8080/",
          "height": 624
        },
        "outputId": "b75ecb89-436a-4208-ddc4-e5a3d18ea9bd"
      },
      "source": [
        "plt.title('Log loss')\n",
        "plt.xlabel('iterations')\n",
        "plt.ylabel('loss+')\n",
        "plt.plot(range(len(losses)), losses)"
      ],
      "execution_count": null,
      "outputs": [
        {
          "output_type": "error",
          "ename": "ValueError",
          "evalue": "ignored",
          "traceback": [
            "\u001b[0;31m---------------------------------------------------------------------------\u001b[0m",
            "\u001b[0;31mValueError\u001b[0m                                Traceback (most recent call last)",
            "\u001b[0;32m<ipython-input-17-8af43806ae27>\u001b[0m in \u001b[0;36m<module>\u001b[0;34m()\u001b[0m\n\u001b[1;32m      2\u001b[0m \u001b[0mplt\u001b[0m\u001b[0;34m.\u001b[0m\u001b[0mxlabel\u001b[0m\u001b[0;34m(\u001b[0m\u001b[0;34m'iterations'\u001b[0m\u001b[0;34m)\u001b[0m\u001b[0;34m\u001b[0m\u001b[0;34m\u001b[0m\u001b[0m\n\u001b[1;32m      3\u001b[0m \u001b[0mplt\u001b[0m\u001b[0;34m.\u001b[0m\u001b[0mylabel\u001b[0m\u001b[0;34m(\u001b[0m\u001b[0;34m'loss+'\u001b[0m\u001b[0;34m)\u001b[0m\u001b[0;34m\u001b[0m\u001b[0;34m\u001b[0m\u001b[0m\n\u001b[0;32m----> 4\u001b[0;31m \u001b[0mplt\u001b[0m\u001b[0;34m.\u001b[0m\u001b[0mplot\u001b[0m\u001b[0;34m(\u001b[0m\u001b[0mrange\u001b[0m\u001b[0;34m(\u001b[0m\u001b[0mlen\u001b[0m\u001b[0;34m(\u001b[0m\u001b[0mlosses\u001b[0m\u001b[0;34m)\u001b[0m\u001b[0;34m)\u001b[0m\u001b[0;34m,\u001b[0m \u001b[0mlosses\u001b[0m\u001b[0;34m)\u001b[0m\u001b[0;34m\u001b[0m\u001b[0;34m\u001b[0m\u001b[0m\n\u001b[0m",
            "\u001b[0;32m/usr/local/lib/python3.7/dist-packages/matplotlib/pyplot.py\u001b[0m in \u001b[0;36mplot\u001b[0;34m(scalex, scaley, data, *args, **kwargs)\u001b[0m\n\u001b[1;32m   2761\u001b[0m     return gca().plot(\n\u001b[1;32m   2762\u001b[0m         *args, scalex=scalex, scaley=scaley, **({\"data\": data} if data\n\u001b[0;32m-> 2763\u001b[0;31m         is not None else {}), **kwargs)\n\u001b[0m\u001b[1;32m   2764\u001b[0m \u001b[0;34m\u001b[0m\u001b[0m\n\u001b[1;32m   2765\u001b[0m \u001b[0;34m\u001b[0m\u001b[0m\n",
            "\u001b[0;32m/usr/local/lib/python3.7/dist-packages/matplotlib/axes/_axes.py\u001b[0m in \u001b[0;36mplot\u001b[0;34m(self, scalex, scaley, data, *args, **kwargs)\u001b[0m\n\u001b[1;32m   1645\u001b[0m         \"\"\"\n\u001b[1;32m   1646\u001b[0m         \u001b[0mkwargs\u001b[0m \u001b[0;34m=\u001b[0m \u001b[0mcbook\u001b[0m\u001b[0;34m.\u001b[0m\u001b[0mnormalize_kwargs\u001b[0m\u001b[0;34m(\u001b[0m\u001b[0mkwargs\u001b[0m\u001b[0;34m,\u001b[0m \u001b[0mmlines\u001b[0m\u001b[0;34m.\u001b[0m\u001b[0mLine2D\u001b[0m\u001b[0;34m)\u001b[0m\u001b[0;34m\u001b[0m\u001b[0;34m\u001b[0m\u001b[0m\n\u001b[0;32m-> 1647\u001b[0;31m         \u001b[0mlines\u001b[0m \u001b[0;34m=\u001b[0m \u001b[0;34m[\u001b[0m\u001b[0;34m*\u001b[0m\u001b[0mself\u001b[0m\u001b[0;34m.\u001b[0m\u001b[0m_get_lines\u001b[0m\u001b[0;34m(\u001b[0m\u001b[0;34m*\u001b[0m\u001b[0margs\u001b[0m\u001b[0;34m,\u001b[0m \u001b[0mdata\u001b[0m\u001b[0;34m=\u001b[0m\u001b[0mdata\u001b[0m\u001b[0;34m,\u001b[0m \u001b[0;34m**\u001b[0m\u001b[0mkwargs\u001b[0m\u001b[0;34m)\u001b[0m\u001b[0;34m]\u001b[0m\u001b[0;34m\u001b[0m\u001b[0;34m\u001b[0m\u001b[0m\n\u001b[0m\u001b[1;32m   1648\u001b[0m         \u001b[0;32mfor\u001b[0m \u001b[0mline\u001b[0m \u001b[0;32min\u001b[0m \u001b[0mlines\u001b[0m\u001b[0;34m:\u001b[0m\u001b[0;34m\u001b[0m\u001b[0;34m\u001b[0m\u001b[0m\n\u001b[1;32m   1649\u001b[0m             \u001b[0mself\u001b[0m\u001b[0;34m.\u001b[0m\u001b[0madd_line\u001b[0m\u001b[0;34m(\u001b[0m\u001b[0mline\u001b[0m\u001b[0;34m)\u001b[0m\u001b[0;34m\u001b[0m\u001b[0;34m\u001b[0m\u001b[0m\n",
            "\u001b[0;32m/usr/local/lib/python3.7/dist-packages/matplotlib/axes/_base.py\u001b[0m in \u001b[0;36m__call__\u001b[0;34m(self, *args, **kwargs)\u001b[0m\n\u001b[1;32m    214\u001b[0m                 \u001b[0mthis\u001b[0m \u001b[0;34m+=\u001b[0m \u001b[0margs\u001b[0m\u001b[0;34m[\u001b[0m\u001b[0;36m0\u001b[0m\u001b[0;34m]\u001b[0m\u001b[0;34m,\u001b[0m\u001b[0;34m\u001b[0m\u001b[0;34m\u001b[0m\u001b[0m\n\u001b[1;32m    215\u001b[0m                 \u001b[0margs\u001b[0m \u001b[0;34m=\u001b[0m \u001b[0margs\u001b[0m\u001b[0;34m[\u001b[0m\u001b[0;36m1\u001b[0m\u001b[0;34m:\u001b[0m\u001b[0;34m]\u001b[0m\u001b[0;34m\u001b[0m\u001b[0;34m\u001b[0m\u001b[0m\n\u001b[0;32m--> 216\u001b[0;31m             \u001b[0;32myield\u001b[0m \u001b[0;32mfrom\u001b[0m \u001b[0mself\u001b[0m\u001b[0;34m.\u001b[0m\u001b[0m_plot_args\u001b[0m\u001b[0;34m(\u001b[0m\u001b[0mthis\u001b[0m\u001b[0;34m,\u001b[0m \u001b[0mkwargs\u001b[0m\u001b[0;34m)\u001b[0m\u001b[0;34m\u001b[0m\u001b[0;34m\u001b[0m\u001b[0m\n\u001b[0m\u001b[1;32m    217\u001b[0m \u001b[0;34m\u001b[0m\u001b[0m\n\u001b[1;32m    218\u001b[0m     \u001b[0;32mdef\u001b[0m \u001b[0mget_next_color\u001b[0m\u001b[0;34m(\u001b[0m\u001b[0mself\u001b[0m\u001b[0;34m)\u001b[0m\u001b[0;34m:\u001b[0m\u001b[0;34m\u001b[0m\u001b[0;34m\u001b[0m\u001b[0m\n",
            "\u001b[0;32m/usr/local/lib/python3.7/dist-packages/matplotlib/axes/_base.py\u001b[0m in \u001b[0;36m_plot_args\u001b[0;34m(self, tup, kwargs)\u001b[0m\n\u001b[1;32m    343\u001b[0m                              f\"have shapes {x.shape} and {y.shape}\")\n\u001b[1;32m    344\u001b[0m         \u001b[0;32mif\u001b[0m \u001b[0mx\u001b[0m\u001b[0;34m.\u001b[0m\u001b[0mndim\u001b[0m \u001b[0;34m>\u001b[0m \u001b[0;36m2\u001b[0m \u001b[0;32mor\u001b[0m \u001b[0my\u001b[0m\u001b[0;34m.\u001b[0m\u001b[0mndim\u001b[0m \u001b[0;34m>\u001b[0m \u001b[0;36m2\u001b[0m\u001b[0;34m:\u001b[0m\u001b[0;34m\u001b[0m\u001b[0;34m\u001b[0m\u001b[0m\n\u001b[0;32m--> 345\u001b[0;31m             raise ValueError(f\"x and y can be no greater than 2-D, but have \"\n\u001b[0m\u001b[1;32m    346\u001b[0m                              f\"shapes {x.shape} and {y.shape}\")\n\u001b[1;32m    347\u001b[0m         \u001b[0;32mif\u001b[0m \u001b[0mx\u001b[0m\u001b[0;34m.\u001b[0m\u001b[0mndim\u001b[0m \u001b[0;34m==\u001b[0m \u001b[0;36m1\u001b[0m\u001b[0;34m:\u001b[0m\u001b[0;34m\u001b[0m\u001b[0;34m\u001b[0m\u001b[0m\n",
            "\u001b[0;31mValueError\u001b[0m: x and y can be no greater than 2-D, but have shapes (1000,) and (1000, 1, 70)"
          ]
        },
        {
          "output_type": "display_data",
          "data": {
            "image/png": "[encoded data removed]",
            "text/plain": [
              "<Figure size 432x288 with 1 Axes>"
            ]
          },
          "metadata": {
            "tags": [],
            "needs_background": "light"
          }
        }
      ]
    },
    {
      "cell_type": "markdown",
      "metadata": {
        "id": "_EqYZ35XWjs8"
      },
      "source": [
        "## Оценка качества классификации"
      ]
    },
    {
      "cell_type": "markdown",
      "metadata": {
        "id": "A53yI7qKWjs8"
      },
      "source": [
        "Как и в случае линейной регрессии, в задачах классификации требуется оценивать качество обученной модели. Для этого существует большое количество подходов."
      ]
    },
    {
      "cell_type": "markdown",
      "metadata": {
        "id": "gx0akNl1Wjs9"
      },
      "source": [
        "Наиболее очевидным и простым способом является расчет _доли правильных ответов_:\n",
        "\n",
        "$$accuracy(a,x) = \\frac{1}{l} \\sum^{l}_{i=1}[a(x_{i})=y_{i}].$$\n",
        "\n",
        "Эта метрика, однако, имеет определенные недостатки:\n",
        "\n",
        "- Она может неадекватно работать на несбалансированных выборках, в которых объектов одного класса намного больше остальных: например, если у нас имеется выборка с 950 объектами класса +1 и 50 класса -1, обыкновенная константная модель классификатора, которая на всех объектах отдает ответ +1, будет иметь долю правильных ответов 0,95, при этом сам классификатор является абсолютно бесполезным. Методом борьбы с этим заключается в введении коэффициента $q_{0}$, равного доле объектов самого большого класса. Доля правильных ответов для корректных алгоритмов должна лежать в промежутке $[q_{0}, 1]$\n",
        "\n",
        "- Она не учитывает \"цены ошибок\". В некоторых прикладных задачах ошибки разного рода могут иметь разную важность. Например, если говорить о кредитном скоринге, при постановке задачи необходимо определить, какая ошибка будет хуже: выдать кредит \"плохому\" клиенту или не выдать \"хорошему\". При этом используемая метрика качества должна учитывать цены разных ошибок."
      ]
    },
    {
      "cell_type": "markdown",
      "metadata": {
        "id": "Rz2yM298Wjs9"
      },
      "source": [
        "### Матрица ошибок"
      ]
    },
    {
      "cell_type": "markdown",
      "metadata": {
        "id": "08n8s3-UWjs-"
      },
      "source": [
        "Удобно представлять ответы в виде комбинации истинного ответа и ответа алгоритма. При этом получается так называемая _матрица ошибок_."
      ]
    },
    {
      "cell_type": "markdown",
      "metadata": {
        "id": "UO9WvB2RWjs_"
      },
      "source": [
        "|  <empty>   | $$y = +1$$ | $$y = -1$$ |\n",
        "--- | --- | ---\n",
        "| __$$a(x) = +1$$__  |   TP    |   FP   |\n",
        "| __$$a(x) = -1$$__ |   FN    |   TN   |"
      ]
    },
    {
      "cell_type": "markdown",
      "metadata": {
        "id": "Q-TJ-Dy2WjtA"
      },
      "source": [
        "В матрице сверху отложены истинные ответы, слева - ответы алгоритма. Когда алгоритм относит объект к классу \"+1\", говорят, что он _срабатывает_, а когда к \"-1\", - _пропускает_. Если алгоритм сработал (дал положительный ответ) и объект действительно относится к классу \"+1\", говорят, что имеет место верное срабатывание/верный положительный ответ (True Positive, TP), а если объект не относится к классу \"+1\", это ложное срабатывание (False Positive, FP). Если алгоритм пропускает объект, а его истинный класс \"+1\", это ложный пропуск/ложный негативные ответ (False Negative, FN), а если истинный класс объекта \"-1\", имеет место истинный пропуск (True Negative, TN). При такой классификации уже есть два вида ошибок - ложные срабатывания и ложные пропуски. По главной диагонали в матрице ошибок располагаются верные ответы, по побочной - неверные."
      ]
    },
    {
      "cell_type": "markdown",
      "metadata": {
        "id": "FoL4ZQJFWjtA"
      },
      "source": [
        "### Точность и полнота"
      ]
    },
    {
      "cell_type": "markdown",
      "metadata": {
        "id": "nqEe7wphWjtB"
      },
      "source": [
        "В классификации часто используются две метрики - _точность_ и _полнота_.\n",
        "\n",
        "Точность (precision) представляет из себя долю истинных срабатываний от общего количества срабатываний. Она показывает, насколько можно доверять алгоритму классификации в случае срабатывания\n",
        "\n",
        "$$precision(a, X) = \\frac{TP}{TP+FP}.$$\n",
        "\n",
        "Полнота (recall) считается как доля объектов, истинно относящихся к классу \"+1\", которые алгоритм отнес к этому классу\n",
        "\n",
        "$$recall(a, X) = \\frac{TP}{TP+FN},$$\n",
        "\n",
        "здесь $TP+FN$ как раз будут вместе составлять весь список объектов класса \"+1\"."
      ]
    },
    {
      "cell_type": "markdown",
      "metadata": {
        "id": "DYnpf8r-WjtB"
      },
      "source": [
        "__Пример__\n",
        "\n",
        "Пусть у нас есть выборка из 100 объектов, из которых 50 относится к классу \"+1\" и 50 к классу \"-1\" и для этой работы с этой выборкой мы рассматриваем две модели: $a_{1}(x)$ с матрицей ошибок\n",
        "\n",
        "|  <empty>   | $$y = +1$$ | $$y = -1$$ |\n",
        "--- | --- | ---\n",
        "| __$$a_{1}(x) = +1$$__  |   40    |   10   |\n",
        "| __$$a_{1}(x) = -1$$__ |   10    |   40   |\n",
        "    \n",
        "\n",
        "и $a_{2}(x)$ с матрицей ошибок:\n",
        " \n",
        " \n",
        "|  <empty>   | $$y = +1$$ | $$y = -1$$ |\n",
        "--- | --- | ---\n",
        "| __$$a_{2}(x) = +1$$__  |   22    |   2   |\n",
        "| __$$a_{2}(x) = -1$$__ |   28    |   48   |"
      ]
    },
    {
      "cell_type": "markdown",
      "metadata": {
        "id": "mzCiUj65WjtC"
      },
      "source": [
        "Для первого алгоритма \n",
        "\n",
        "$$preсision(a_{1}, X)=0.8$$\n",
        "$$recall(a_{1}, X)=0.8$$\n",
        "\n",
        "Для второго алгоритма\n",
        "\n",
        "$$preсision(a_{2}, X)=0.92$$\n",
        "$$recall(a_{2}, X)=0.44$$\n",
        "\n",
        "Как мы видим, точность второй модели очень высока, но при этом сильно снижена полнота. Поэтому нужно правильно формировать бизнес-требования к модели, какой именно показатель должен быть определяющим. Например, если в задаче кредитного скоринга банк ставит цель возврата 90% кредитов, задачей ставится максимизация полноты при условии точности не ниже 0.9. А если при распознавании спама стоит требование, например, распознавать 95% спам-писем, задача состоит в максимизации точности при условии полноты не ниже 0.95."
      ]
    },
    {
      "cell_type": "markdown",
      "metadata": {
        "id": "FBf11-4WWjtD"
      },
      "source": [
        "Однако, такое ограничение есть не всегда, и в остальных случаях требуется максимизировать и полноту и точность. Есть различные варианты объединения их в одну метрику, одним из наиболее удобных из них является _F-мера_, которая представляет собой среднее гармоническое между точностью и полнотой\n",
        "\n",
        "$$F = \\frac{2 \\cdot precision \\cdot recall }{ presision + recall}.$$\n",
        "\n",
        "В отличие от, например, среднего арифметического, если хотя бы один из аргументов близок к нулю, то и среднее гармоническое будет близко к нулю. По сути, F-мера является сглаженной версией минимума из точности и полноты (см. графики)."
      ]
    },
    {
      "cell_type": "code",
      "metadata": {
        "id": "4kgiOPsYWjtE"
      },
      "source": [
        "A, B = np.meshgrid(np.linspace(0.01, 1, 100), np.linspace(0.01, 1, 100))\n",
        "\n",
        "min_levels = np.empty_like(A)\n",
        "for i in range(A.shape[0]):\n",
        "    for j in range(A.shape[1]):\n",
        "        min_levels[i, j] = min([A[i, j], B[i, j]])\n",
        "        \n",
        "plt.figure(figsize=(6, 6))\n",
        "plt.title('Minimum')\n",
        "plt.xlabel('precision')\n",
        "plt.ylabel('recall')\n",
        "plt.grid()\n",
        "plt.contour(A, B, min_levels, levels=20)"
      ],
      "execution_count": null,
      "outputs": []
    },
    {
      "cell_type": "code",
      "metadata": {
        "id": "9__Kd-LIWjtG"
      },
      "source": [
        "f_levels = np.empty_like(A)\n",
        "for i in range(A.shape[0]):\n",
        "    for j in range(A.shape[1]):\n",
        "        f_levels[i, j] = 2 * A[i, j] * B[i, j] / (A[i, j] + B[i, j])\n",
        "\n",
        "plt.figure(figsize=(6, 6))        \n",
        "plt.title('F-score')\n",
        "plt.xlabel('precision')\n",
        "plt.ylabel('recall')\n",
        "plt.grid()\n",
        "plt.contour(A, B, f_levels, levels=20)"
      ],
      "execution_count": null,
      "outputs": []
    },
    {
      "cell_type": "markdown",
      "metadata": {
        "id": "Fm_bFr4RWjtI"
      },
      "source": [
        "Существует также усовершенствованная версия F-меры $F_{\\beta}$:\n",
        "\n",
        "$$F_{\\beta} = (1 + \\beta^{2}) \\frac{precision \\cdot recall}{\\beta^{2} \\cdot precision + recall}.$$\n",
        "\n",
        "Параметр $\\beta$ здесь определяет вес точности в метрике. При $\\beta = 1$ это среднее гармоническое, умноженное на 2 (чтобы в случае $precision = 1$ и $recall = 1$ $F_{1} = 1$). Его изменение требуется, когда необходимо отдать приоритет точности или полноте, как это было показано в примерах ранее. Чтобы важнее была полнота, $\\beta$ должно быть меньше 1, чтобы важнее была точность - больше."
      ]
    },
    {
      "cell_type": "markdown",
      "metadata": {
        "id": "dzt177cAWjtI"
      },
      "source": [
        "Итак, мы научились определять вероятность отнесения объекта к тому или иному классу и метрики, которые характеризуют качество работы алгоритма $a(x)=[b(x)>t]$, и теперь, чтобы конвертировать ее в бинарную метку (сделать выводы о принадлежности к классу), нужно определить значение порога вероятности $t$, при котором объект нужно относить к соответствующему классу. Естественным кажется вариант, при котором порог равен 0,5, но он не всегда оказывается оптимальным. Зачастую интерес представляет сам вещественнозначный алгоритм $b(x)$, а порог будет выбираться позже в зависимости от требований к точности и полноте. В таком случае появляется потребность в измерении качества семейства алгоритмов $a(x)=[b(x)>t]$ с различными $t$.\n",
        "\n",
        "Есть способы оценки модели в целом, не привязываясь к конкретному порогу. Первый из них основан на использовании _ROC-кривой_. Такая кривая строится в следующих координатах:\n",
        "\n",
        "по оси $x$ откладывается доля ложных срабатываний (False Positive Rate) - отношение числа ложных срабатываний к общему размеру отрицательного класса:\n",
        "\n",
        "$$FPR = \\frac{FP}{FP+TN}$$\n",
        "\n",
        "по оси $y$ откладывается доля верных срабатываний (True Positive Rate) - отношение числа верных срабатываний к размеру положительного класса:\n",
        "\n",
        "$$TPR = \\frac{TP}{TP+FN},$$\n",
        "\n",
        "то есть TPR по сути представляет из себя полноту, о которой мы говорили ранее.\n",
        "\n",
        "Точка на графике будет соответствовать конкретному классификатору с некоторым значением порога."
      ]
    },
    {
      "cell_type": "markdown",
      "metadata": {
        "id": "l9QFBNdNWjtJ"
      },
      "source": [
        "В качестве примера возьмем выборку из семи объектов, которым алгоритм $b(x)$ присвоил оценки принадлежности к классу 1:\n",
        "\n",
        "| $$b(x)$$ | 0 | 0.1 | 0.2 | 0.3 | 0.5 | 0.6 |\n",
        "| -------- | - | --- | --- | --- | --- | --- |\n",
        "|  $$y$$   | 0 |  0  |  1  |  1  |  0  |  1  |\n"
      ]
    },
    {
      "cell_type": "markdown",
      "metadata": {
        "id": "Lj9Dpt69WjtL"
      },
      "source": [
        "Теперь пойдем по порядку справа налево:\n",
        "\n",
        "1. Сначала выбираем самый большой порог, при котором ни один объект не будет отнесен к первому классу. При этом доля верных срабатываний и доля ложных срабатываний равны нулю. Получаем точку (0, 0).\n",
        "2. Далее снижая порог до 0,6, один объект будет отнесен к первому классу. Доля ложных срабатываний останется нулевой, доля верных срабатываний станет 1/3.\n",
        "3. При дальнейшем уменьшении порога до 0,5 второй справа один объект будет отнесен к первому классу. TPR останется 1/3, FPR также станет равна 1/3.\n",
        "4. Далее при снижении порога до 0.3 TPR станет 2/3, FPR останется 1/3.\n",
        "5. При пороге 0.2 TPR станет равна 1, FPR останется 1/3.\n",
        "6. При пороге 0.2 5 объектов будут отнесены алгоритмом к классу 1, TPR останется 1, FPR станет 2/3.\n",
        "7. При дальнейшем уменьшении порога все объекты будут отнесены к первому классу, и TPR и FPR станут равны 1."
      ]
    },
    {
      "cell_type": "markdown",
      "metadata": {
        "id": "2HIG6RE7WjtM"
      },
      "source": [
        "Построим соответствующий график"
      ]
    },
    {
      "cell_type": "code",
      "metadata": {
        "id": "msxJ90-UWjtN"
      },
      "source": [
        "from numpy import trapz  # используем эту функцию для расчета площади под кривой\n",
        "\n",
        "TPR = [0, 0.33, 0.33, 0.66, 1, 1, 1]\n",
        "FPR = [0, 0, 0.33, 0.33, 0.33, 0.66, 1]\n",
        "\n",
        "AUC_ROC = trapz(TPR, x = FPR, dx=0.1)\n",
        "\n",
        "plt.title('ROC curve')\n",
        "plt.ylim(0, 1.05)\n",
        "plt.xlabel('FPR')\n",
        "plt.ylabel('TPR')\n",
        "plt.grid()\n",
        "plt.legend(' ', title=f'AUC-ROC={AUC_ROC:.3f}', loc='lower right')\n",
        "plt.plot(FPR, TPR)"
      ],
      "execution_count": null,
      "outputs": []
    },
    {
      "cell_type": "markdown",
      "metadata": {
        "id": "XyESKowjWjtP"
      },
      "source": [
        "ROC кривая всегда идет из точки (0,0) в точку (1,1). При этом в случае наличия идеального классификатора с определенным порогом доля его верных ответов будет равна 1, а доля ложных срабатываний - 0, то есть график будет проходить через точку (0,1). Таким образом, чем ближе к этой точке проходит ROC-кривая, тем лучше наши оценки и лучше используемое семейство алгоритмов. Таким образом мерой качества оценок принадлежности к классу 1 может служить площадь под ROC-кривой. Такая метрика называется AUC-ROC (Area Under Curve - площадь под кривой ROC). В случае идеального алгоритма $AUC-ROC = 1$, а в случае худшего приближается к $\\frac{1}{2}$.\n",
        "\n",
        "Критерий AUC-ROC можно интерпретировать как вероятность того, что если выбрать случайные положительный и отрицательный объект выборки, положительный объект получит оценку принадлежности выше, чем отрицательный."
      ]
    },
    {
      "cell_type": "markdown",
      "metadata": {
        "id": "SsKR7UVvWjtP"
      },
      "source": [
        "Обычно объектов гораздо больше, чем в нашем примере, поэтому кривая в реальных задачах выглядит несколько иначе - в ней больше точек."
      ]
    },
    {
      "cell_type": "markdown",
      "metadata": {
        "id": "ht0A-noi_VCi"
      },
      "source": [
        ""
      ]
    },
    {
      "cell_type": "markdown",
      "metadata": {
        "id": "TcpsbtjDWjtQ"
      },
      "source": [
        "AUC-ROC не очень устойчив к несбалансированным выборкам. Допустим, нам нужно выбрать 100 релевантных документов из выборки в 1000000 документов. И у нас есть алгоритм, который дает выборку из 5000 документов, 90 из которых релевантны. В этом случае \n",
        "\n",
        "$$TPR=\\frac{TP}{TP+FN} = \\frac{90}{90+10}=0.9$$\n",
        "\n",
        "$$FPR=\\frac{FP}{FP+TN} = \\frac{4910}{4910+994990}=0.00491$$,\n",
        "\n",
        "Что является показателями очень хорошего алгоритма - AUC-ROC будет близка к 1, хотя на самом деле 1900 из 2000 выданных документов являются нерелевантными.\n",
        "\n",
        "Чтобы посмотреть реальное положение дел, рассчитаем точность и полноту:\n",
        "\n",
        "$$precision = \\frac{TP}{TP+FP}=\\frac{90}{90+4910} = 0.018$$\n",
        "\n",
        "$$recall = TPR = 0.9.$$\n",
        "\n",
        "Здесь уже видно, что алгоритм является недостаточно точным.\n",
        "\n",
        "Таким образом, если размер положительного класс значительно меньше отрицательного, AUC-ROC может давать неадекватную оценку качества алгоритма, так как измеряет долю ложных срабатываний относительно общего числа отрицательных объектов, и если оно большое, доля будет мала, хотя в абсолютном значении количество ложных срабатываний может заметно превышать количество верных срабатываний."
      ]
    },
    {
      "cell_type": "markdown",
      "metadata": {
        "id": "4r8uwAqDWjtR"
      },
      "source": [
        "Избавиться от такой проблемы можно используя другой метод - _кривую точности-полноты (PR-кривую)_. По оси $x$ откладывается полнота, по оси $y$ - точность, а точка на графике, аналогично ROC-кривой, будет соответствовать конкретному классификатору с некоторым значением порога. \n",
        "\n",
        "Возьмем использованный нами для постройки ROC-кривой набор данных и аналогичным образом построим PR-кривую.\n",
        "\n",
        "\n",
        "| $$b(x)$$ | 0 | 0.1 | 0.2 | 0.3 | 0.5 | 0.6 |\n",
        "| -------- | - | --- | --- | --- | --- | --- |\n",
        "|  $$y$$   | 0 |  0  |  1  |  1  |  0  |  1  |"
      ]
    },
    {
      "cell_type": "code",
      "metadata": {
        "id": "8VcA_V-6WjtS"
      },
      "source": [
        "precision = [0, 1, 0.5, 0.66, 0.75, 0.6, 0.5]\n",
        "recall = [0, 0.33, 0.33, 0.66, 1, 1, 1]\n",
        "\n",
        "AUC_PR = trapz(precision, x = recall, dx=0.1)\n",
        "\n",
        "plt.title('PR curve')\n",
        "plt.ylim(0, 1.05)\n",
        "plt.xlabel('recall')\n",
        "plt.ylabel('presision')\n",
        "plt.grid()\n",
        "plt.legend(' ', title=f'AUC-PR={AUC_PR:.3f}', loc='lower right')\n",
        "plt.plot(recall, precision)"
      ],
      "execution_count": null,
      "outputs": []
    },
    {
      "cell_type": "markdown",
      "metadata": {
        "id": "waknResiWjtV"
      },
      "source": [
        "Она всегда стартует в точке (0,0) и заканчивается в точке (1, r), где r - доля положительных объектов в выборке. В случае наличия идеального классификатора, у которого точность и полнота 100%, кривая пройдет через точку (1,1). Таким образом, чем ближе к этой точке кривая проходит, тем лучше оценки. Так что, как и в случае ROC-кривой, можно ввести метрику качества в виде площади под PR-кривой AUC-PR."
      ]
    },
    {
      "cell_type": "markdown",
      "metadata": {
        "id": "TBQTgdl2WjtW"
      },
      "source": [
        "## Дополнительные материалы"
      ]
    },
    {
      "cell_type": "markdown",
      "metadata": {
        "id": "c4eqL1suWjtW"
      },
      "source": [
        "1. [Функции потерь для классификации](https://en.wikipedia.org/wiki/Loss_functions_for_classification)\n",
        "\n",
        "2. Метод максимального правдоподобия: [Сложное описание](https://habr.com/ru/company/ods/blog/323890/#metod-maksimalnogo-pravdopodobiya) / [Простое описание](https://www.youtube.com/watch?v=2iRIqkm1mug)\n",
        "\n",
        "3. [Встроенные датасеты Sklearn](https://scikit-learn.org/stable/modules/classes.html#module-sklearn.datasets)\n",
        "\n",
        "4. [numpy.trapz](https://docs.scipy.org/doc/numpy-1.13.0/reference/generated/numpy.trapz.html)\n"
      ]
    }
  ]
}